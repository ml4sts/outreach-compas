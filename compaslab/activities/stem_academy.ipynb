{
 "cells": [
  {
   "cell_type": "markdown",
   "metadata": {},
   "source": [
    "# Replicating Propbulica's COMPAS Audit\n",
    "\n",
    "## Why COMPAS?\n",
    "\n",
    "\n",
    "Propublica started the COMPAS Debate with the article [Machine Bias](#References).  With their article, they also released details of their methodology and their [data and code](https://github.com/propublica/compas-analysis).  This presents a real data set that can be used for research on how data is used in a criminal justice setting without researchers having to perform their own requests for information, so it has been used and reused a lot of times."
   ]
  },
  {
   "cell_type": "code",
   "execution_count": 1,
   "metadata": {},
   "outputs": [],
   "source": [
    "import numpy as np\n",
    "import pandas as pd\n",
    "import scipy\n",
    "import matplotlib.pyplot as plt\n",
    "import seaborn as sns\n",
    "import itertools\n",
    "from sklearn.metrics import roc_curve\n",
    "import warnings\n",
    "warnings.filterwarnings('ignore')"
   ]
  },
  {
   "cell_type": "markdown",
   "metadata": {},
   "source": [
    "## Propublica COMPAS Data\n",
    "\n",
    "The dataset consists of COMPAS scores assigned to defendants over two years 2013-2014 in Broward County, Florida. These scores are determined by a proprietary algorithm designed to evaluate a persons recidivism risk - the likelihood that they will reoffend. Risk scoring algorithms are widely used by judges to inform their scentencing and bail decisions in the criminal justice system in the United States. The original ProPublica analysis identified a number of fairness concerns around the use of COMPAS scores, including that ''black defendants were nearly twice as likely to be misclassified as higher risk compared to their white counterparts.'' Please see the full article for further details."
   ]
  },
  {
   "cell_type": "code",
   "execution_count": 15,
   "metadata": {},
   "outputs": [
    {
     "name": "stdout",
     "output_type": "stream",
     "text": [
      "['name', 'first', 'last', 'compas_screening_date', 'sex', 'dob', 'age', 'age_cat', 'race', 'juv_fel_count', 'decile_score', 'juv_misd_count', 'juv_other_count', 'priors_count', 'days_b_screening_arrest', 'c_jail_in', 'c_jail_out', 'c_case_number', 'c_offense_date', 'c_arrest_date', 'c_days_from_compas', 'c_charge_degree', 'c_charge_desc', 'is_recid', 'r_case_number', 'r_charge_degree', 'r_days_from_arrest', 'r_offense_date', 'r_charge_desc', 'r_jail_in', 'r_jail_out', 'violent_recid', 'is_violent_recid', 'vr_case_number', 'vr_charge_degree', 'vr_offense_date', 'vr_charge_desc', 'type_of_assessment', 'decile_score.1', 'score_text', 'screening_date', 'v_type_of_assessment', 'v_decile_score', 'v_score_text', 'v_screening_date', 'in_custody', 'out_custody', 'priors_count.1', 'start', 'end', 'event', 'two_year_recid']\n",
      "                  name   first         last compas_screening_date   sex  \\\n",
      "id                                                                        \n",
      "1     miguel hernandez  miguel    hernandez            2013-08-14  Male   \n",
      "3          kevon dixon   kevon        dixon            2013-01-27  Male   \n",
      "4             ed philo      ed        philo            2013-04-14  Male   \n",
      "5          marcu brown   marcu        brown            2013-01-13  Male   \n",
      "6   bouthy pierrelouis  bouthy  pierrelouis            2013-03-26  Male   \n",
      "\n",
      "           dob  age          age_cat              race  juv_fel_count  ...  \\\n",
      "id                                                                     ...   \n",
      "1   1947-04-18   69  Greater than 45             Other              0  ...   \n",
      "3   1982-01-22   34          25 - 45  African-American              0  ...   \n",
      "4   1991-05-14   24     Less than 25  African-American              0  ...   \n",
      "5   1993-01-21   23     Less than 25  African-American              0  ...   \n",
      "6   1973-01-22   43          25 - 45             Other              0  ...   \n",
      "\n",
      "    v_decile_score  v_score_text  v_screening_date  in_custody  out_custody  \\\n",
      "id                                                                            \n",
      "1                1           Low        2013-08-14  2014-07-07   2014-07-14   \n",
      "3                1           Low        2013-01-27  2013-01-26   2013-02-05   \n",
      "4                3           Low        2013-04-14  2013-06-16   2013-06-16   \n",
      "5                6        Medium        2013-01-13         NaN          NaN   \n",
      "6                1           Low        2013-03-26         NaN          NaN   \n",
      "\n",
      "   priors_count.1 start   end event two_year_recid  \n",
      "id                                                  \n",
      "1               0     0   327     0              0  \n",
      "3               0     9   159     1              1  \n",
      "4               4     0    63     0              1  \n",
      "5               1     0  1174     0              0  \n",
      "6               2     0  1102     0              0  \n",
      "\n",
      "[5 rows x 52 columns]\n"
     ]
    }
   ],
   "source": [
    "df_pp = pd.read_csv(\"https://github.com/propublica/compas-analysis/raw/master/compas-scores-two-years.csv\",\n",
    "                 header=0).set_index('id')\n",
    "\n",
    "print(list(df))\n",
    "print(df.head())"
   ]
  },
  {
   "cell_type": "markdown",
   "metadata": {},
   "source": [
    "### Data Cleaning\n",
    "\n",
    "For this analysis, we will restrict ourselves to only a few features, and clean the dataset according to the methods using in the original ProPublica analysis, we can import that copy version of the data directly."
   ]
  },
  {
   "cell_type": "code",
   "execution_count": 16,
   "metadata": {},
   "outputs": [],
   "source": [
    "df = pd.read_csv('https://raw.githubusercontent.com/ml4sts/outreach-compas/main/data/compas_c.csv')"
   ]
  },
  {
   "cell_type": "markdown",
   "metadata": {},
   "source": [
    "## Data Exploration\n",
    "\n",
    "Next we provide a few ways to look at the relationships between the attributes in the dataset. Here is an explanation of these values:\n",
    "\n",
    "* `age`: defendant's age\n",
    "* `c_charge_degree`: degree charged (Misdemeanor of Felony)\n",
    "* `race`: defendant's race\n",
    "* `age_cat`: defendant's age quantized in \"less than 25\", \"25-45\", or \"over 45\"\n",
    "* `score_text`: COMPAS score: 'low'(1 to 5), 'medium' (5 to 7), and 'high' (8 to 10).\n",
    "* `sex`: defendant's gender\n",
    "* `priors_count`: number of prior charges\n",
    "* `days_b_screening_arrest`: number of days between charge date and arrest where defendant was screened for compas score\n",
    "* `decile_score`: COMPAS score from 1 to 10 (low risk to high risk)\n",
    "* `is_recid`: if the defendant recidivized\n",
    "* `two_year_recid`: if the defendant within two years\n",
    "* `c_jail_in`: date defendant was imprisoned\n",
    "* `c_jail_out`: date defendant was released from jail\n",
    "* `length_of_stay`: length of jail stay\n",
    "\n",
    "In particular, as in the ProPublica analysis, we are interested in the implications for the treatment of different groups as defined by some **protected attribute**. In particular we will consider race as the protected attribute in our analysis. Next we look at the number of entries for each race.\n",
    "\n",
    "\n",
    "1. Use `value_counts` to look at how much data is available for each race\n",
    "2. filter to keep data from the two larges groups"
   ]
  },
  {
   "cell_type": "code",
   "execution_count": 4,
   "metadata": {},
   "outputs": [
    {
     "data": {
      "text/plain": [
       "African-American    3175\n",
       "Caucasian           2103\n",
       "Hispanic             509\n",
       "Other                343\n",
       "Asian                 31\n",
       "Native American       11\n",
       "Name: race, dtype: int64"
      ]
     },
     "execution_count": 4,
     "metadata": {},
     "output_type": "execute_result"
    }
   ],
   "source": [
    "df['race'].value_counts()"
   ]
  },
  {
   "cell_type": "code",
   "execution_count": 5,
   "metadata": {},
   "outputs": [],
   "source": [
    "df = df.loc[df['race'].isin(['African-American','Caucasian'])]"
   ]
  },
  {
   "cell_type": "markdown",
   "metadata": {},
   "source": [
    "### COMPAS score distribution\n",
    "\n",
    "Let's look at the COMPAS score distribution between African-Americans and Caucasians (matches the one in the ProPublica article).\n",
    "\n",
    "hint: (use shift + tab for help in any function)\n",
    "```\n",
    "race_score_table = df.groupby([]).size().reset_index().pivot(index='',columns='',values=0)\n",
    "\n",
    "# print percentage of defendants in each score category\n",
    "(100*/.sum()).transpose()\n",
    "```\n",
    "\n",
    "then make a bar plot (quickest way is to use pandas plot with `figsize=[12,7]` to make it bigger, plot type is indicated by the `kind` parameter)"
   ]
  },
  {
   "cell_type": "code",
   "execution_count": 6,
   "metadata": {},
   "outputs": [
    {
     "data": {
      "text/html": [
       "<div>\n",
       "<style scoped>\n",
       "    .dataframe tbody tr th:only-of-type {\n",
       "        vertical-align: middle;\n",
       "    }\n",
       "\n",
       "    .dataframe tbody tr th {\n",
       "        vertical-align: top;\n",
       "    }\n",
       "\n",
       "    .dataframe thead th {\n",
       "        text-align: right;\n",
       "    }\n",
       "</style>\n",
       "<table border=\"1\" class=\"dataframe\">\n",
       "  <thead>\n",
       "    <tr style=\"text-align: right;\">\n",
       "      <th>decile_score</th>\n",
       "      <th>1</th>\n",
       "      <th>2</th>\n",
       "      <th>3</th>\n",
       "      <th>4</th>\n",
       "      <th>5</th>\n",
       "      <th>6</th>\n",
       "      <th>7</th>\n",
       "      <th>8</th>\n",
       "      <th>9</th>\n",
       "      <th>10</th>\n",
       "    </tr>\n",
       "    <tr>\n",
       "      <th>race</th>\n",
       "      <th></th>\n",
       "      <th></th>\n",
       "      <th></th>\n",
       "      <th></th>\n",
       "      <th></th>\n",
       "      <th></th>\n",
       "      <th></th>\n",
       "      <th></th>\n",
       "      <th></th>\n",
       "      <th></th>\n",
       "    </tr>\n",
       "  </thead>\n",
       "  <tbody>\n",
       "    <tr>\n",
       "      <th>African-American</th>\n",
       "      <td>11.496063</td>\n",
       "      <td>10.897638</td>\n",
       "      <td>9.385827</td>\n",
       "      <td>10.614173</td>\n",
       "      <td>10.173228</td>\n",
       "      <td>10.015748</td>\n",
       "      <td>10.803150</td>\n",
       "      <td>9.480315</td>\n",
       "      <td>9.984252</td>\n",
       "      <td>7.149606</td>\n",
       "    </tr>\n",
       "    <tr>\n",
       "      <th>Caucasian</th>\n",
       "      <td>28.768426</td>\n",
       "      <td>15.263909</td>\n",
       "      <td>11.317166</td>\n",
       "      <td>11.554922</td>\n",
       "      <td>9.510223</td>\n",
       "      <td>7.608179</td>\n",
       "      <td>5.373276</td>\n",
       "      <td>4.564907</td>\n",
       "      <td>3.661436</td>\n",
       "      <td>2.377556</td>\n",
       "    </tr>\n",
       "  </tbody>\n",
       "</table>\n",
       "</div>"
      ],
      "text/plain": [
       "decile_score             1          2          3          4          5   \\\n",
       "race                                                                      \n",
       "African-American  11.496063  10.897638   9.385827  10.614173  10.173228   \n",
       "Caucasian         28.768426  15.263909  11.317166  11.554922   9.510223   \n",
       "\n",
       "decile_score             6          7         8         9         10  \n",
       "race                                                                  \n",
       "African-American  10.015748  10.803150  9.480315  9.984252  7.149606  \n",
       "Caucasian          7.608179   5.373276  4.564907  3.661436  2.377556  "
      ]
     },
     "execution_count": 6,
     "metadata": {},
     "output_type": "execute_result"
    }
   ],
   "source": [
    "race_score_table = df.groupby(['race','decile_score']).size().reset_index().pivot(\n",
    "                                index='decile_score',columns='race',values=0)\n",
    "\n",
    "# percentage of defendants in each score category\n",
    "(100*race_score_table/race_score_table.sum()).transpose()"
   ]
  },
  {
   "cell_type": "code",
   "execution_count": 7,
   "metadata": {},
   "outputs": [
    {
     "data": {
      "text/plain": [
       "<AxesSubplot:xlabel='decile_score'>"
      ]
     },
     "execution_count": 7,
     "metadata": {},
     "output_type": "execute_result"
    },
    {
     "data": {
      "image/png": "[encoded data removed]",
      "text/plain": [
       "<Figure size 432x288 with 1 Axes>"
      ]
     },
     "metadata": {
      "needs_background": "light"
     },
     "output_type": "display_data"
    }
   ],
   "source": [
    "race_score_table.plot(kind='bar')"
   ]
  },
  {
   "cell_type": "markdown",
   "metadata": {},
   "source": [
    "As you can observe, there is a large discrepancy. Does this change when we condition on other variables?\n",
    "\n",
    "1. Look at how priors are distributed. Follow what you did above for score by race (or continue for help)\n",
    "1. Look at how scores are distributed for those with more than two priors\n",
    "1. What about with less than two priors ?(you can copy or import again the above and modify it)\n",
    "1. Look at first time (use `priors_count`) felons (`c_charge_degree` of `F`) under 25. How is this different?"
   ]
  },
  {
   "cell_type": "code",
   "execution_count": 8,
   "metadata": {},
   "outputs": [
    {
     "data": {
      "text/plain": [
       "<AxesSubplot:xlabel='priors_count'>"
      ]
     },
     "execution_count": 8,
     "metadata": {},
     "output_type": "execute_result"
    },
    {
     "data": {
      "image/png": "[encoded data removed]",
      "text/plain": [
       "<Figure size 864x504 with 1 Axes>"
      ]
     },
     "metadata": {
      "needs_background": "light"
     },
     "output_type": "display_data"
    }
   ],
   "source": [
    "priors = df.groupby(['race','priors_count']).size().reset_index().pivot(index='priors_count',columns='race',values=0)\n",
    "priors.plot(kind='bar',figsize=[12,7])"
   ]
  },
  {
   "cell_type": "code",
   "execution_count": 9,
   "metadata": {},
   "outputs": [
    {
     "data": {
      "text/plain": [
       "<AxesSubplot:xlabel='decile_score'>"
      ]
     },
     "execution_count": 9,
     "metadata": {},
     "output_type": "execute_result"
    },
    {
     "data": {
      "image/png": "[encoded data removed]",
      "text/plain": [
       "<Figure size 1080x504 with 1 Axes>"
      ]
     },
     "metadata": {
      "needs_background": "light"
     },
     "output_type": "display_data"
    }
   ],
   "source": [
    "df_2priors = df.loc[df['priors_count']>=2]\n",
    "score_2priors = df_2priors.groupby(['race','decile_score']).size().reset_index().pivot(\n",
    "    index='decile_score',columns='race',values=0)\n",
    "score_2priors.plot(kind='bar',figsize=[15,7])"
   ]
  },
  {
   "cell_type": "markdown",
   "metadata": {},
   "source": [
    "## What happens when we take actual 2-year recidivism values into account? Are the predictions fair?\n",
    "\n",
    "First, we're going to load a different version of the data, it's quantized. Then look at the correlation between the quantized score, the decile score and the actual recidivism."
   ]
  },
  {
   "cell_type": "code",
   "execution_count": null,
   "metadata": {},
   "outputs": [],
   "source": [
    "dfQ = pd.load_csv('https://raw.githubusercontent.com/ml4sts/outreach-compas/main/data/compas_cq.csv')"
   ]
  },
  {
   "cell_type": "markdown",
   "metadata": {},
   "source": [
    "The correlation is not that high. How can we evaluate whether the predictions made by the COMPAS scores are fair, especially considering that they do not predict recidivism rates well?"
   ]
  },
  {
   "cell_type": "code",
   "execution_count": 11,
   "metadata": {},
   "outputs": [
    {
     "data": {
      "text/html": [
       "<div>\n",
       "<style scoped>\n",
       "    .dataframe tbody tr th:only-of-type {\n",
       "        vertical-align: middle;\n",
       "    }\n",
       "\n",
       "    .dataframe tbody tr th {\n",
       "        vertical-align: top;\n",
       "    }\n",
       "\n",
       "    .dataframe thead th {\n",
       "        text-align: right;\n",
       "    }\n",
       "</style>\n",
       "<table border=\"1\" class=\"dataframe\">\n",
       "  <thead>\n",
       "    <tr style=\"text-align: right;\">\n",
       "      <th></th>\n",
       "      <th>two_year_recid</th>\n",
       "      <th>score_text</th>\n",
       "    </tr>\n",
       "  </thead>\n",
       "  <tbody>\n",
       "    <tr>\n",
       "      <th>two_year_recid</th>\n",
       "      <td>1.000000</td>\n",
       "      <td>0.314698</td>\n",
       "    </tr>\n",
       "    <tr>\n",
       "      <th>score_text</th>\n",
       "      <td>0.314698</td>\n",
       "      <td>1.000000</td>\n",
       "    </tr>\n",
       "  </tbody>\n",
       "</table>\n",
       "</div>"
      ],
      "text/plain": [
       "                two_year_recid  score_text\n",
       "two_year_recid        1.000000    0.314698\n",
       "score_text            0.314698    1.000000"
      ]
     },
     "execution_count": 11,
     "metadata": {},
     "output_type": "execute_result"
    }
   ],
   "source": [
    "# measure with high-low score\n",
    "dfQ[['two_year_recid','score_text']].corr()"
   ]
  },
  {
   "cell_type": "code",
   "execution_count": 12,
   "metadata": {},
   "outputs": [
    {
     "data": {
      "text/html": [
       "<div>\n",
       "<style scoped>\n",
       "    .dataframe tbody tr th:only-of-type {\n",
       "        vertical-align: middle;\n",
       "    }\n",
       "\n",
       "    .dataframe tbody tr th {\n",
       "        vertical-align: top;\n",
       "    }\n",
       "\n",
       "    .dataframe thead th {\n",
       "        text-align: right;\n",
       "    }\n",
       "</style>\n",
       "<table border=\"1\" class=\"dataframe\">\n",
       "  <thead>\n",
       "    <tr style=\"text-align: right;\">\n",
       "      <th></th>\n",
       "      <th>two_year_recid</th>\n",
       "      <th>decile_score</th>\n",
       "    </tr>\n",
       "  </thead>\n",
       "  <tbody>\n",
       "    <tr>\n",
       "      <th>two_year_recid</th>\n",
       "      <td>1.000000</td>\n",
       "      <td>0.368193</td>\n",
       "    </tr>\n",
       "    <tr>\n",
       "      <th>decile_score</th>\n",
       "      <td>0.368193</td>\n",
       "      <td>1.000000</td>\n",
       "    </tr>\n",
       "  </tbody>\n",
       "</table>\n",
       "</div>"
      ],
      "text/plain": [
       "                two_year_recid  decile_score\n",
       "two_year_recid        1.000000      0.368193\n",
       "decile_score          0.368193      1.000000"
      ]
     },
     "execution_count": 12,
     "metadata": {},
     "output_type": "execute_result"
    }
   ],
   "source": [
    "# measure with decile_score\n",
    "dfQ[['two_year_recid','decile_score']].corr()"
   ]
  },
  {
   "cell_type": "markdown",
   "metadata": {},
   "source": [
    "##  Fairness Metrics\n",
    "\n",
    "The question of how to determine if an algorithm is *fair* has seen much debate recently (see this tutorial from the Conference on Fairness, Acountability, and Transparency titled [21 Fairness Definitions and Their Politics](https://fatconference.org/2018/livestream_vh220.html).\n",
    "\n",
    "And in fact some of the definitions are contradictory, and have been shown to be mutually exclusive [2,3] https://www.propublica.org/article/bias-in-criminal-risk-scores-is-mathematically-inevitable-researchers-say\n",
    "\n",
    "Here we will cover 3 notions of fairness and present ways to measure them:\n",
    "\n",
    "1. **Disparate Impact** [4](#References)\n",
    "[The 80% rule](https://en.wikipedia.org/wiki/Disparate_impact#The_80.25_rule)\n",
    "\n",
    "2. **Calibration** [6](#References)\n",
    "\n",
    "4. **Equalized Odds** [5](#References)\n",
    "\n",
    "For the rest of our analysis we will use a binary outcome - COMPAS score <= 4 is LOW RISK, >4 is HIGH RISK.\n",
    "\n",
    "### Disparate Impact\n",
    "\n",
    "Disparate impact is a legal concept used to describe situations when an entity such as an employer *inadvertently* discriminates gainst a certain protected group. This is distinct from *disparate treatment* where discrimination is intentional.\n",
    "\n",
    "To demonstrate cases of disparate impact, the Equal Opportunity Commission (EEOC) proposed \"rule of thumb\" is known as the [The 80% rule](https://en.wikipedia.org/wiki/Disparate_impact#The_80.25_rule).\n",
    "\n",
    "Feldman et al. [4](#References) adapted a fairness metric from this  principle. For our application, it states that the percent of defendants predicted to be high risk in each protected group (in this case whites and African-Americans) should be within 80% of each other.\n",
    "\n",
    "Let's evaluate this standard for the COMPAS data."
   ]
  },
  {
   "cell_type": "code",
   "execution_count": 17,
   "metadata": {},
   "outputs": [
    {
     "data": {
      "text/plain": [
       "0.5745131730114521"
      ]
     },
     "execution_count": 17,
     "metadata": {},
     "output_type": "execute_result"
    }
   ],
   "source": [
    "#  Let's measure the disparate impact according to the EEOC rule\n",
    "means_score = dfQ.groupby(['score_text','race']).size().unstack().reset_index()\n",
    "means_score = means_score/means_score.sum()\n",
    "means_score\n",
    "# split this cell for the above to print\n",
    "# compute disparate impact\n",
    "AA_with_high_score = means_score.loc[1,'African-American']\n",
    "C_with_high_score = means_score.loc[1,'Caucasian']\n",
    "\n",
    "C_with_high_score/AA_with_high_score"
   ]
  },
  {
   "cell_type": "markdown",
   "metadata": {},
   "source": [
    "This ratio is below .8, so there is disparate impact by this rule.  (Taking the priveleged group and the undesirable outcome instead of the disadvantaged group and the favorable outcome).\n",
    "\n",
    "What if we apply the same rule to the **true** two year rearrest instead of the quantized COMPAS score?"
   ]
  },
  {
   "cell_type": "code",
   "execution_count": 18,
   "metadata": {},
   "outputs": [
    {
     "data": {
      "text/plain": [
       "0.7471480065031378"
      ]
     },
     "execution_count": 18,
     "metadata": {},
     "output_type": "execute_result"
    }
   ],
   "source": [
    "means_2yr = dfQ.groupby(['two_year_recid','race']).size().unstack()\n",
    "means_2yr = means_2yr/means_2yr.sum()\n",
    "means_2yr\n",
    "\n",
    "# compute disparte impact\n",
    "AA_with_high_score = means_2yr.loc[1,'African-American']\n",
    "C_with_high_score = means_2yr.loc[1,'Caucasian']\n",
    "C_with_high_score/AA_with_high_score"
   ]
  },
  {
   "cell_type": "markdown",
   "metadata": {},
   "source": [
    "There is a difference in re-arrest, but not as high as assigned by the COMPAS scores. This is still a disparate impact of the actual arrests (since this not necessarily accurate as a recidivism rate, but it is true rearrest).\n",
    "\n",
    "Now let's measure the difference in scores when we consider both the COMPAS output and true recidivism.\n",
    "\n",
    "### Calibration\n",
    "\n",
    "A discussion of using calibration to verify the fairness of a model can be found in Northpoint's (now: Equivant) response to the ProPublica article [6](#References).\n",
    "\n",
    "The basic idea behind calibrating a classifier is that you want the confidence of the predictor to reflect the true outcomes. So, in a well-calibrated classifier, if 100 people are assigned 90% confidence of being in the positive class, then in reality, 90 of them should actually have had a positive label.\n",
    "\n",
    "To use calibration as a fairness metric we compare the calibration of the classifier for each group.  The smaller the difference, the more fair the calssifier.\n",
    "\n",
    "In our problem this can be expressed as given $Y$ indicating two year recidivism, $S_Q$ indicating score (0=low, 1=high medium), and $R$ indicating race, we measure\n",
    "\n",
    "$$\\mathsf{cal} \\triangleq \\frac{\\mathbb{P}\\left(Y=1\\mid S_Q=s,R=\\mbox{African-American} \\right)}{\\mathbb{P}\\left(Y=1 \\mid S_Q=s,R=\\mbox{Caucasian} \\right)},$$ for different scores $s$. Considering our quantized scores, we look at the calibration for $s=1$.\n",
    "\n",
    "\n",
    "#### Discuss\n",
    "1. Do you think this is close enough?\n",
    "1. Which metric do you think is better so far?"
   ]
  },
  {
   "cell_type": "code",
   "execution_count": 19,
   "metadata": {},
   "outputs": [
    {
     "name": "stdout",
     "output_type": "stream",
     "text": [
      "Calibration: 1.091972\n",
      "Calibration in percentage: 9.197233%\n"
     ]
    }
   ],
   "source": [
    "# compute averages\n",
    "dfAverage = dfQ.groupby(['race','score_text'])['two_year_recid'].mean().unstack()\n",
    "\n",
    "num = dfAverage.loc['African-American',1]\n",
    "denom = dfAverage.loc['Caucasian',1]\n",
    "cal = num/denom\n",
    "calpercent = 100*(cal-1)\n",
    "print('Calibration: %f' % cal)\n",
    "print('Calibration in percentage: %f%%' % calpercent)"
   ]
  },
  {
   "cell_type": "markdown",
   "metadata": {},
   "source": [
    "The difference looks much smaller than before. The problem of the above calibration measure is that it depends on the threshold on which we quantized the scores $S_Q$.\n",
    "\n",
    "In order to mitigate this, ine might use a variation of this measure called *predictive parity.* In this example, we define predictive parity as\n",
    "\n",
    "$$\\mathsf{PP}(s) \\triangleq \\frac{\\mathbb{P}\\left(Y=1\\mid S\\geq s,R=\\mbox{African-American} \\right)}{\\mathbb{P}\\left(Y=1 \\mid S\\geq s,R=\\mbox{Caucasian} \\right)},$$\n",
    "where $S$ is the original score.\n",
    "\n",
    "We plot $\\mathsf{PP}(s) $ for $s$ from 1 to 10. Note how predictive parity depends significantly on the threshold."
   ]
  },
  {
   "cell_type": "code",
   "execution_count": 20,
   "metadata": {},
   "outputs": [
    {
     "data": {
      "text/plain": [
       "Text(0.5, 1.0, 'Predictive parity for different thresholds\\n(warning: no error bars)')"
      ]
     },
     "execution_count": 20,
     "metadata": {},
     "output_type": "execute_result"
    },
    {
     "data": {
      "image/png": "[encoded data removed]",
      "text/plain": [
       "<Figure size 720x720 with 1 Axes>"
      ]
     },
     "metadata": {
      "needs_background": "light"
     },
     "output_type": "display_data"
    }
   ],
   "source": [
    "# aux function for thresh score\n",
    "def threshScore(x,s):\n",
    "    if x>=s:\n",
    "        return 1\n",
    "    else:\n",
    "        return 0\n",
    "\n",
    "ppv_values = []\n",
    "dfP = dfQ[['race','two_year_recid']].copy()\n",
    "for s in range(1,11):\n",
    "    dfP['threshScore'] = dfQ['decile_score'].apply(lambda x: threshScore(x,s))\n",
    "    dfAverage = dfP.groupby(['race','threshScore'])['two_year_recid'].mean().unstack()\n",
    "    num = dfAverage.loc['African-American',1]\n",
    "    denom = dfAverage.loc['Caucasian',1]\n",
    "    ppv_values.append(100*(num/denom-1))\n",
    "\n",
    "\n",
    "plt.figure(figsize=[10,10])\n",
    "plt.plot(range(1,11),ppv_values)\n",
    "plt.xticks(range(1,11))\n",
    "plt.xlabel('Score Threshold')\n",
    "plt.ylabel('Predictive Parity (percentage)')\n",
    "plt.title('Predictive parity for different thresholds\\n(warning: no error bars)')"
   ]
  },
  {
   "cell_type": "markdown",
   "metadata": {},
   "source": [
    "### Equalized Odds\n",
    "\n",
    "The last fairness metric we consider is based on the difference in *error rates* between groups. Hardt et al. [5](#References) propose to look at the difference in the true positive and false positive rates for each group. This aligns with the analysis performed by Propublica. We can examine these values looking at is the ROC for each group. We normalize the score between 0 and 1. The ROC thresholds produced by `scikitlearn` are the same.\n",
    "\n",
    "\n",
    "\n",
    "Discuss these results and copmare how these metrics show that there is (or is not) a disparity."
   ]
  },
  {
   "cell_type": "code",
   "execution_count": 21,
   "metadata": {},
   "outputs": [
    {
     "data": {
      "text/plain": [
       "<matplotlib.legend.Legend at 0x7f429f12edc0>"
      ]
     },
     "execution_count": 21,
     "metadata": {},
     "output_type": "execute_result"
    },
    {
     "data": {
      "image/png": "[encoded data removed]",
      "text/plain": [
       "<Figure size 720x720 with 1 Axes>"
      ]
     },
     "metadata": {
      "needs_background": "light"
     },
     "output_type": "display_data"
    }
   ],
   "source": [
    "# normalize decile score\n",
    "max_score = dfQ['decile_score'].max()\n",
    "min_score = dfQ['decile_score'].min()\n",
    "dfQ['norm_score'] = (dfQ['decile_score']-min_score)/(max_score-min_score)\n",
    "\n",
    "\n",
    "plt.figure(figsize=[10,10])\n",
    "#plot ROC curve for African-Americans\n",
    "y = dfQ.loc[dfQ['race']=='African-American',['two_year_recid','norm_score']].values\n",
    "fpr1,tpr1,thresh1 = roc_curve(y_true = y[:,0],y_score=y[:,1])\n",
    "plt.plot(fpr1,tpr1)\n",
    "\n",
    "#plot ROC curve for Caucasian\n",
    "y = dfQ.loc[dfQ['race']=='Caucasian',['two_year_recid','norm_score']].values\n",
    "fpr2,tpr2,thresh2 = roc_curve(y_true = y[:,0],y_score=y[:,1])\n",
    "plt.plot(fpr2,tpr2)\n",
    "l = np.linspace(0,1,10)\n",
    "plt.plot(l,l,'k--')\n",
    "\n",
    "plt.xlabel('False Positive Rate')\n",
    "plt.ylabel('True Postitive Rate')\n",
    "plt.title('ROC')\n",
    "plt.legend(['African-American','Caucasian'])"
   ]
  },
  {
   "cell_type": "markdown",
   "metadata": {},
   "source": [
    "# Extension: CORELS\n",
    "\n",
    "\n",
    "COPMAS has also been criticized for being a generally opaque system. Some machine learning models are easier to understand than others, for example a rule list is easy to understand.\n",
    "The [CORELS system](https://corels.eecs.harvard.edu/corels/run.html) learns a rule list from the ProPublica data and reports similar accuracy.\n",
    "\n",
    "```\n",
    "if ({Prior-Crimes>3}) then ({label=1})\n",
    "else if ({Age=18-22}) then ({label=1})\n",
    "else ({label=0})\n",
    "```\n",
    "\n",
    "Let's investigate how that score compares.\n",
    "1. Write a function that takes one row of the data frame and computes the corels function\n",
    "1. Use `df.apply` to apply your function and add a column to the data frame with the corels score\n",
    "1. Evaluate the CORELS prediction with respect to accuracy, and fairnss follwing the above"
   ]
  },
  {
   "cell_type": "code",
   "execution_count": 22,
   "metadata": {},
   "outputs": [
    {
     "data": {
      "text/plain": [
       "25 - 45            4109\n",
       "Greater than 45    1576\n",
       "Less than 25       1529\n",
       "Name: age_cat, dtype: int64"
      ]
     },
     "execution_count": 22,
     "metadata": {},
     "output_type": "execute_result"
    }
   ],
   "source": [
    "df['age_cat'].value_counts()"
   ]
  },
  {
   "cell_type": "code",
   "execution_count": 23,
   "metadata": {},
   "outputs": [
    {
     "data": {
      "text/html": [
       "<div>\n",
       "<style scoped>\n",
       "    .dataframe tbody tr th:only-of-type {\n",
       "        vertical-align: middle;\n",
       "    }\n",
       "\n",
       "    .dataframe tbody tr th {\n",
       "        vertical-align: top;\n",
       "    }\n",
       "\n",
       "    .dataframe thead th {\n",
       "        text-align: right;\n",
       "    }\n",
       "</style>\n",
       "<table border=\"1\" class=\"dataframe\">\n",
       "  <thead>\n",
       "    <tr style=\"text-align: right;\">\n",
       "      <th>race</th>\n",
       "      <th>corels</th>\n",
       "      <th>African-American</th>\n",
       "      <th>Asian</th>\n",
       "      <th>Caucasian</th>\n",
       "      <th>Hispanic</th>\n",
       "      <th>Native American</th>\n",
       "      <th>Other</th>\n",
       "    </tr>\n",
       "  </thead>\n",
       "  <tbody>\n",
       "    <tr>\n",
       "      <th>0</th>\n",
       "      <td>0.0</td>\n",
       "      <td>0.602273</td>\n",
       "      <td>0.84375</td>\n",
       "      <td>0.760391</td>\n",
       "      <td>0.814757</td>\n",
       "      <td>0.555556</td>\n",
       "      <td>0.814324</td>\n",
       "    </tr>\n",
       "    <tr>\n",
       "      <th>1</th>\n",
       "      <td>1.0</td>\n",
       "      <td>0.397727</td>\n",
       "      <td>0.15625</td>\n",
       "      <td>0.239609</td>\n",
       "      <td>0.185243</td>\n",
       "      <td>0.444444</td>\n",
       "      <td>0.185676</td>\n",
       "    </tr>\n",
       "  </tbody>\n",
       "</table>\n",
       "</div>"
      ],
      "text/plain": [
       "race  corels  African-American    Asian  Caucasian  Hispanic  Native American  \\\n",
       "0        0.0          0.602273  0.84375   0.760391  0.814757         0.555556   \n",
       "1        1.0          0.397727  0.15625   0.239609  0.185243         0.444444   \n",
       "\n",
       "race     Other  \n",
       "0     0.814324  \n",
       "1     0.185676  "
      ]
     },
     "execution_count": 23,
     "metadata": {},
     "output_type": "execute_result"
    }
   ],
   "source": [
    "def corels_rule(row):\n",
    "    if row['priors_count'] > 3:\n",
    "        return True\n",
    "    elif row['age'] == 'Less than 25':\n",
    "        return True\n",
    "    else:\n",
    "        return False\n",
    "\n",
    "df['corels'] = df.apply(corels_rule,axis=1)\n",
    "\n",
    "#  Let's measure the disparate impact according to the EEOC rule\n",
    "means_corel = df.groupby(['corels','race']).size().unstack().reset_index()\n",
    "means_corel = means_corel/means_corel.sum()\n",
    "means_corel"
   ]
  }
 ],
 "metadata": {
  "jupytext": {
   "formats": "md:myst,ipynb"
  },
  "kernelspec": {
   "display_name": "Python 3",
   "language": "python",
   "name": "python3"
  },
  "language_info": {
   "codemirror_mode": {
    "name": "ipython",
    "version": 3
   },
   "file_extension": ".py",
   "mimetype": "text/x-python",
   "name": "python",
   "nbconvert_exporter": "python",
   "pygments_lexer": "ipython3",
   "version": "3.8.6"
  }
 },
 "nbformat": 4,
 "nbformat_minor": 5
}
