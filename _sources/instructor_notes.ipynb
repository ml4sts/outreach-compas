{
 "cells": [
  {
   "cell_type": "markdown",
   "id": "7891df2e",
   "metadata": {},
   "source": [
    "# Instructor Notes"
   ]
  },
  {
   "cell_type": "code",
   "execution_count": 1,
   "id": "51ad79ae",
   "metadata": {},
   "outputs": [
    {
     "name": "stdout",
     "output_type": "stream",
     "text": [
      "Processing /home/runner/work/outreach-compas/outreach-compas\r\n",
      "\u001b[33m  DEPRECATION: A future pip version will change local packages to be built in-place without first copying to a temporary directory. We recommend you use --use-feature=in-tree-build to test your packages with this new behavior before it becomes the default.\r\n",
      "   pip 21.3 will remove support for this functionality. You can find discussion regarding this at https://github.com/pypa/pip/issues/7555.\u001b[0m\r\n"
     ]
    },
    {
     "name": "stdout",
     "output_type": "stream",
     "text": [
      "Requirement already satisfied: Numpy in /opt/hostedtoolcache/Python/3.7.11/x64/lib/python3.7/site-packages (from compaslab==0.1) (1.21.2)\r\n",
      "Requirement already satisfied: Pandas in /opt/hostedtoolcache/Python/3.7.11/x64/lib/python3.7/site-packages (from compaslab==0.1) (1.3.2)\r\n"
     ]
    },
    {
     "name": "stdout",
     "output_type": "stream",
     "text": [
      "Collecting Seaborn\r\n",
      "  Downloading seaborn-0.11.2-py3-none-any.whl (292 kB)\r\n",
      "\u001b[?25l\r",
      "\u001b[K     |█▏                              | 10 kB 32.9 MB/s eta 0:00:01\r",
      "\u001b[K     |██▎                             | 20 kB 31.0 MB/s eta 0:00:01\r",
      "\u001b[K     |███▍                            | 30 kB 35.4 MB/s eta 0:00:01\r",
      "\u001b[K     |████▌                           | 40 kB 29.1 MB/s eta 0:00:01\r",
      "\u001b[K     |█████▋                          | 51 kB 32.7 MB/s eta 0:00:01\r",
      "\u001b[K     |██████▊                         | 61 kB 36.2 MB/s eta 0:00:01\r",
      "\u001b[K     |███████▉                        | 71 kB 25.2 MB/s eta 0:00:01\r",
      "\u001b[K     |█████████                       | 81 kB 27.2 MB/s eta 0:00:01\r",
      "\u001b[K     |██████████                      | 92 kB 29.3 MB/s eta 0:00:01\r",
      "\u001b[K     |███████████▏                    | 102 kB 23.3 MB/s eta 0:00:01\r",
      "\u001b[K     |████████████▎                   | 112 kB 23.3 MB/s eta 0:00:01\r",
      "\u001b[K     |█████████████▍                  | 122 kB 23.3 MB/s eta 0:00:01\r",
      "\u001b[K     |██████████████▌                 | 133 kB 23.3 MB/s eta 0:00:01\r",
      "\u001b[K     |███████████████▊                | 143 kB 23.3 MB/s eta 0:00:01\r",
      "\u001b[K     |████████████████▉               | 153 kB 23.3 MB/s eta 0:00:01\r",
      "\u001b[K     |██████████████████              | 163 kB 23.3 MB/s eta 0:00:01\r",
      "\u001b[K     |███████████████████             | 174 kB 23.3 MB/s eta 0:00:01\r",
      "\u001b[K     |████████████████████▏           | 184 kB 23.3 MB/s eta 0:00:01\r",
      "\u001b[K     |█████████████████████▎          | 194 kB 23.3 MB/s eta 0:00:01\r",
      "\u001b[K     |██████████████████████▍         | 204 kB 23.3 MB/s eta 0:00:01\r",
      "\u001b[K     |███████████████████████▌        | 215 kB 23.3 MB/s eta 0:00:01\r",
      "\u001b[K     |████████████████████████▋       | 225 kB 23.3 MB/s eta 0:00:01\r",
      "\u001b[K     |█████████████████████████▊      | 235 kB 23.3 MB/s eta 0:00:01\r",
      "\u001b[K     |██████████████████████████▉     | 245 kB 23.3 MB/s eta 0:00:01\r",
      "\u001b[K     |████████████████████████████    | 256 kB 23.3 MB/s eta 0:00:01\r",
      "\u001b[K     |█████████████████████████████   | 266 kB 23.3 MB/s eta 0:00:01\r",
      "\u001b[K     |██████████████████████████████▏ | 276 kB 23.3 MB/s eta 0:00:01\r",
      "\u001b[K     |███████████████████████████████▍| 286 kB 23.3 MB/s eta 0:00:01\r",
      "\u001b[K     |████████████████████████████████| 292 kB 23.3 MB/s \r\n"
     ]
    },
    {
     "name": "stdout",
     "output_type": "stream",
     "text": [
      "\u001b[?25hRequirement already satisfied: Jupytext in /opt/hostedtoolcache/Python/3.7.11/x64/lib/python3.7/site-packages (from compaslab==0.1) (1.10.3)\r\n",
      "Requirement already satisfied: pyyaml in /opt/hostedtoolcache/Python/3.7.11/x64/lib/python3.7/site-packages (from Jupytext->compaslab==0.1) (5.4.1)\r\n",
      "Requirement already satisfied: toml in /opt/hostedtoolcache/Python/3.7.11/x64/lib/python3.7/site-packages (from Jupytext->compaslab==0.1) (0.10.2)\r\n",
      "Requirement already satisfied: markdown-it-py~=0.6.0 in /opt/hostedtoolcache/Python/3.7.11/x64/lib/python3.7/site-packages (from Jupytext->compaslab==0.1) (0.6.2)\r\n",
      "Requirement already satisfied: nbformat in /opt/hostedtoolcache/Python/3.7.11/x64/lib/python3.7/site-packages (from Jupytext->compaslab==0.1) (5.1.3)\r\n",
      "Requirement already satisfied: mdit-py-plugins~=0.2.1 in /opt/hostedtoolcache/Python/3.7.11/x64/lib/python3.7/site-packages (from markdown-it-py~=0.6.0->Jupytext->compaslab==0.1) (0.2.6)\r\n",
      "Requirement already satisfied: attrs<21,>=19 in /opt/hostedtoolcache/Python/3.7.11/x64/lib/python3.7/site-packages (from markdown-it-py~=0.6.0->Jupytext->compaslab==0.1) (20.3.0)\r\n"
     ]
    },
    {
     "name": "stdout",
     "output_type": "stream",
     "text": [
      "Requirement already satisfied: jsonschema!=2.5.0,>=2.4 in /opt/hostedtoolcache/Python/3.7.11/x64/lib/python3.7/site-packages (from nbformat->Jupytext->compaslab==0.1) (3.2.0)\r\n",
      "Requirement already satisfied: traitlets>=4.1 in /opt/hostedtoolcache/Python/3.7.11/x64/lib/python3.7/site-packages (from nbformat->Jupytext->compaslab==0.1) (5.0.5)\r\n",
      "Requirement already satisfied: ipython-genutils in /opt/hostedtoolcache/Python/3.7.11/x64/lib/python3.7/site-packages (from nbformat->Jupytext->compaslab==0.1) (0.2.0)\r\n",
      "Requirement already satisfied: jupyter-core in /opt/hostedtoolcache/Python/3.7.11/x64/lib/python3.7/site-packages (from nbformat->Jupytext->compaslab==0.1) (4.7.1)\r\n"
     ]
    },
    {
     "name": "stdout",
     "output_type": "stream",
     "text": [
      "Requirement already satisfied: importlib-metadata in /opt/hostedtoolcache/Python/3.7.11/x64/lib/python3.7/site-packages (from jsonschema!=2.5.0,>=2.4->nbformat->Jupytext->compaslab==0.1) (4.7.1)\r\n",
      "Requirement already satisfied: setuptools in /opt/hostedtoolcache/Python/3.7.11/x64/lib/python3.7/site-packages (from jsonschema!=2.5.0,>=2.4->nbformat->Jupytext->compaslab==0.1) (47.1.0)\r\n",
      "Requirement already satisfied: pyrsistent>=0.14.0 in /opt/hostedtoolcache/Python/3.7.11/x64/lib/python3.7/site-packages (from jsonschema!=2.5.0,>=2.4->nbformat->Jupytext->compaslab==0.1) (0.18.0)\r\n",
      "Requirement already satisfied: six>=1.11.0 in /opt/hostedtoolcache/Python/3.7.11/x64/lib/python3.7/site-packages (from jsonschema!=2.5.0,>=2.4->nbformat->Jupytext->compaslab==0.1) (1.16.0)\r\n",
      "Requirement already satisfied: typing-extensions>=3.6.4 in /opt/hostedtoolcache/Python/3.7.11/x64/lib/python3.7/site-packages (from importlib-metadata->jsonschema!=2.5.0,>=2.4->nbformat->Jupytext->compaslab==0.1) (3.10.0.0)\r\n",
      "Requirement already satisfied: zipp>=0.5 in /opt/hostedtoolcache/Python/3.7.11/x64/lib/python3.7/site-packages (from importlib-metadata->jsonschema!=2.5.0,>=2.4->nbformat->Jupytext->compaslab==0.1) (3.5.0)\r\n"
     ]
    },
    {
     "name": "stdout",
     "output_type": "stream",
     "text": [
      "Requirement already satisfied: pytz>=2017.3 in /opt/hostedtoolcache/Python/3.7.11/x64/lib/python3.7/site-packages (from Pandas->compaslab==0.1) (2021.1)\r\n",
      "Requirement already satisfied: python-dateutil>=2.7.3 in /opt/hostedtoolcache/Python/3.7.11/x64/lib/python3.7/site-packages (from Pandas->compaslab==0.1) (2.8.2)\r\n",
      "Requirement already satisfied: matplotlib>=2.2 in /opt/hostedtoolcache/Python/3.7.11/x64/lib/python3.7/site-packages (from Seaborn->compaslab==0.1) (3.4.3)\r\n",
      "Requirement already satisfied: scipy>=1.0 in /opt/hostedtoolcache/Python/3.7.11/x64/lib/python3.7/site-packages (from Seaborn->compaslab==0.1) (1.7.1)\r\n",
      "Requirement already satisfied: kiwisolver>=1.0.1 in /opt/hostedtoolcache/Python/3.7.11/x64/lib/python3.7/site-packages (from matplotlib>=2.2->Seaborn->compaslab==0.1) (1.3.2)\r\n",
      "Requirement already satisfied: pillow>=6.2.0 in /opt/hostedtoolcache/Python/3.7.11/x64/lib/python3.7/site-packages (from matplotlib>=2.2->Seaborn->compaslab==0.1) (8.3.1)\r\n",
      "Requirement already satisfied: pyparsing>=2.2.1 in /opt/hostedtoolcache/Python/3.7.11/x64/lib/python3.7/site-packages (from matplotlib>=2.2->Seaborn->compaslab==0.1) (2.4.7)\r\n",
      "Requirement already satisfied: cycler>=0.10 in /opt/hostedtoolcache/Python/3.7.11/x64/lib/python3.7/site-packages (from matplotlib>=2.2->Seaborn->compaslab==0.1) (0.10.0)\r\n"
     ]
    },
    {
     "name": "stdout",
     "output_type": "stream",
     "text": [
      "Building wheels for collected packages: compaslab\r\n"
     ]
    },
    {
     "name": "stdout",
     "output_type": "stream",
     "text": [
      "  Building wheel for compaslab (setup.py) ... \u001b[?25l-"
     ]
    },
    {
     "name": "stdout",
     "output_type": "stream",
     "text": [
      "\b \bdone\r\n",
      "\u001b[?25h  Created wheel for compaslab: filename=compaslab-0.1-py3-none-any.whl size=47042 sha256=b0ef74491b4b742d613a25ae82da3bcc9a31154ca31a53d4ed7430b4fca6594c\r\n",
      "  Stored in directory: /home/runner/.cache/pip/wheels/4c/47/d4/cffe8955e7f8ef2c34b68f52da68324beafd1be896c6d33083\r\n",
      "Successfully built compaslab\r\n"
     ]
    },
    {
     "name": "stdout",
     "output_type": "stream",
     "text": [
      "Installing collected packages: Seaborn, compaslab\r\n"
     ]
    },
    {
     "name": "stdout",
     "output_type": "stream",
     "text": [
      "Successfully installed Seaborn-0.11.2 compaslab-0.1\r\n"
     ]
    },
    {
     "name": "stdout",
     "output_type": "stream",
     "text": [
      "Note: you may need to restart the kernel to use updated packages.\n"
     ]
    }
   ],
   "source": [
    "pip install ../."
   ]
  },
  {
   "cell_type": "code",
   "execution_count": 2,
   "id": "9b3463d2",
   "metadata": {},
   "outputs": [],
   "source": [
    "import compaslab"
   ]
  },
  {
   "cell_type": "markdown",
   "id": "30d6c4b9",
   "metadata": {},
   "source": [
    "## TD STEM Academy"
   ]
  },
  {
   "cell_type": "code",
   "execution_count": 3,
   "id": "ba746272",
   "metadata": {},
   "outputs": [
    {
     "ename": "NotJSONError",
     "evalue": "Notebook does not appear to be JSON: b'{\\n \"cells\": [\\n  {\\n   \"cell_type\": \"...",
     "output_type": "error",
     "traceback": [
      "\u001b[0;31m---------------------------------------------------------------------------\u001b[0m",
      "\u001b[0;31mJSONDecodeError\u001b[0m                           Traceback (most recent call last)",
      "\u001b[0;32m/opt/hostedtoolcache/Python/3.7.11/x64/lib/python3.7/site-packages/nbformat/reader.py\u001b[0m in \u001b[0;36mparse_json\u001b[0;34m(s, **kwargs)\u001b[0m\n\u001b[1;32m     13\u001b[0m     \u001b[0;32mtry\u001b[0m\u001b[0;34m:\u001b[0m\u001b[0;34m\u001b[0m\u001b[0;34m\u001b[0m\u001b[0m\n\u001b[0;32m---> 14\u001b[0;31m         \u001b[0mnb_dict\u001b[0m \u001b[0;34m=\u001b[0m \u001b[0mjson\u001b[0m\u001b[0;34m.\u001b[0m\u001b[0mloads\u001b[0m\u001b[0;34m(\u001b[0m\u001b[0ms\u001b[0m\u001b[0;34m,\u001b[0m \u001b[0;34m**\u001b[0m\u001b[0mkwargs\u001b[0m\u001b[0;34m)\u001b[0m\u001b[0;34m\u001b[0m\u001b[0;34m\u001b[0m\u001b[0m\n\u001b[0m\u001b[1;32m     15\u001b[0m     \u001b[0;32mexcept\u001b[0m \u001b[0mValueError\u001b[0m \u001b[0;32mas\u001b[0m \u001b[0me\u001b[0m\u001b[0;34m:\u001b[0m\u001b[0;34m\u001b[0m\u001b[0;34m\u001b[0m\u001b[0m\n",
      "\u001b[0;32m/opt/hostedtoolcache/Python/3.7.11/x64/lib/python3.7/json/__init__.py\u001b[0m in \u001b[0;36mloads\u001b[0;34m(s, encoding, cls, object_hook, parse_float, parse_int, parse_constant, object_pairs_hook, **kw)\u001b[0m\n\u001b[1;32m    347\u001b[0m             parse_constant is None and object_pairs_hook is None and not kw):\n\u001b[0;32m--> 348\u001b[0;31m         \u001b[0;32mreturn\u001b[0m \u001b[0m_default_decoder\u001b[0m\u001b[0;34m.\u001b[0m\u001b[0mdecode\u001b[0m\u001b[0;34m(\u001b[0m\u001b[0ms\u001b[0m\u001b[0;34m)\u001b[0m\u001b[0;34m\u001b[0m\u001b[0;34m\u001b[0m\u001b[0m\n\u001b[0m\u001b[1;32m    349\u001b[0m     \u001b[0;32mif\u001b[0m \u001b[0mcls\u001b[0m \u001b[0;32mis\u001b[0m \u001b[0;32mNone\u001b[0m\u001b[0;34m:\u001b[0m\u001b[0;34m\u001b[0m\u001b[0;34m\u001b[0m\u001b[0m\n",
      "\u001b[0;32m/opt/hostedtoolcache/Python/3.7.11/x64/lib/python3.7/json/decoder.py\u001b[0m in \u001b[0;36mdecode\u001b[0;34m(self, s, _w)\u001b[0m\n\u001b[1;32m    336\u001b[0m         \"\"\"\n\u001b[0;32m--> 337\u001b[0;31m         \u001b[0mobj\u001b[0m\u001b[0;34m,\u001b[0m \u001b[0mend\u001b[0m \u001b[0;34m=\u001b[0m \u001b[0mself\u001b[0m\u001b[0;34m.\u001b[0m\u001b[0mraw_decode\u001b[0m\u001b[0;34m(\u001b[0m\u001b[0ms\u001b[0m\u001b[0;34m,\u001b[0m \u001b[0midx\u001b[0m\u001b[0;34m=\u001b[0m\u001b[0m_w\u001b[0m\u001b[0;34m(\u001b[0m\u001b[0ms\u001b[0m\u001b[0;34m,\u001b[0m \u001b[0;36m0\u001b[0m\u001b[0;34m)\u001b[0m\u001b[0;34m.\u001b[0m\u001b[0mend\u001b[0m\u001b[0;34m(\u001b[0m\u001b[0;34m)\u001b[0m\u001b[0;34m)\u001b[0m\u001b[0;34m\u001b[0m\u001b[0;34m\u001b[0m\u001b[0m\n\u001b[0m\u001b[1;32m    338\u001b[0m         \u001b[0mend\u001b[0m \u001b[0;34m=\u001b[0m \u001b[0m_w\u001b[0m\u001b[0;34m(\u001b[0m\u001b[0ms\u001b[0m\u001b[0;34m,\u001b[0m \u001b[0mend\u001b[0m\u001b[0;34m)\u001b[0m\u001b[0;34m.\u001b[0m\u001b[0mend\u001b[0m\u001b[0;34m(\u001b[0m\u001b[0;34m)\u001b[0m\u001b[0;34m\u001b[0m\u001b[0;34m\u001b[0m\u001b[0m\n",
      "\u001b[0;32m/opt/hostedtoolcache/Python/3.7.11/x64/lib/python3.7/json/decoder.py\u001b[0m in \u001b[0;36mraw_decode\u001b[0;34m(self, s, idx)\u001b[0m\n\u001b[1;32m    352\u001b[0m         \u001b[0;32mtry\u001b[0m\u001b[0;34m:\u001b[0m\u001b[0;34m\u001b[0m\u001b[0;34m\u001b[0m\u001b[0m\n\u001b[0;32m--> 353\u001b[0;31m             \u001b[0mobj\u001b[0m\u001b[0;34m,\u001b[0m \u001b[0mend\u001b[0m \u001b[0;34m=\u001b[0m \u001b[0mself\u001b[0m\u001b[0;34m.\u001b[0m\u001b[0mscan_once\u001b[0m\u001b[0;34m(\u001b[0m\u001b[0ms\u001b[0m\u001b[0;34m,\u001b[0m \u001b[0midx\u001b[0m\u001b[0;34m)\u001b[0m\u001b[0;34m\u001b[0m\u001b[0;34m\u001b[0m\u001b[0m\n\u001b[0m\u001b[1;32m    354\u001b[0m         \u001b[0;32mexcept\u001b[0m \u001b[0mStopIteration\u001b[0m \u001b[0;32mas\u001b[0m \u001b[0merr\u001b[0m\u001b[0;34m:\u001b[0m\u001b[0;34m\u001b[0m\u001b[0;34m\u001b[0m\u001b[0m\n",
      "\u001b[0;31mJSONDecodeError\u001b[0m: Expecting property name enclosed in double quotes: line 76 column 1 (char 2769)",
      "\nThe above exception was the direct cause of the following exception:\n",
      "\u001b[0;31mNotJSONError\u001b[0m                              Traceback (most recent call last)",
      "\u001b[0;32m/tmp/ipykernel_1913/424764686.py\u001b[0m in \u001b[0;36m<module>\u001b[0;34m\u001b[0m\n\u001b[0;32m----> 1\u001b[0;31m \u001b[0mtut\u001b[0m\u001b[0;34m=\u001b[0m \u001b[0mcompaslab\u001b[0m\u001b[0;34m.\u001b[0m\u001b[0mLiveTutorial\u001b[0m\u001b[0;34m(\u001b[0m\u001b[0;34m'stem_academy.ipynb'\u001b[0m\u001b[0;34m)\u001b[0m\u001b[0;34m\u001b[0m\u001b[0;34m\u001b[0m\u001b[0m\n\u001b[0m\u001b[1;32m      2\u001b[0m \u001b[0;34m\u001b[0m\u001b[0m\n\u001b[1;32m      3\u001b[0m \u001b[0;32mfor\u001b[0m \u001b[0mi\u001b[0m\u001b[0;34m,\u001b[0m\u001b[0mcurb\u001b[0m \u001b[0;32min\u001b[0m \u001b[0menumerate\u001b[0m\u001b[0;34m(\u001b[0m\u001b[0mtut\u001b[0m\u001b[0;34m.\u001b[0m\u001b[0mblock_list\u001b[0m\u001b[0;34m)\u001b[0m\u001b[0;34m:\u001b[0m\u001b[0;34m\u001b[0m\u001b[0;34m\u001b[0m\u001b[0m\n\u001b[1;32m      4\u001b[0m     \u001b[0mprint\u001b[0m\u001b[0;34m(\u001b[0m\u001b[0;34m' '\u001b[0m\u001b[0;34m.\u001b[0m\u001b[0mjoin\u001b[0m\u001b[0;34m(\u001b[0m\u001b[0;34m[\u001b[0m\u001b[0mstr\u001b[0m\u001b[0;34m(\u001b[0m\u001b[0mi\u001b[0m\u001b[0;34m)\u001b[0m\u001b[0;34m,\u001b[0m\u001b[0mcurb\u001b[0m\u001b[0;34m,\u001b[0m\u001b[0;34m'\\n -'\u001b[0m\u001b[0;34m]\u001b[0m\u001b[0;34m)\u001b[0m\u001b[0;34m,\u001b[0m\u001b[0;34m'\\n - '\u001b[0m\u001b[0;34m.\u001b[0m\u001b[0mjoin\u001b[0m\u001b[0;34m(\u001b[0m\u001b[0mlist\u001b[0m\u001b[0;34m(\u001b[0m\u001b[0mtut\u001b[0m\u001b[0;34m.\u001b[0m\u001b[0mblocks\u001b[0m\u001b[0;34m[\u001b[0m\u001b[0mcurb\u001b[0m\u001b[0;34m]\u001b[0m\u001b[0;34m.\u001b[0m\u001b[0mkeys\u001b[0m\u001b[0;34m(\u001b[0m\u001b[0;34m)\u001b[0m\u001b[0;34m)\u001b[0m\u001b[0;34m)\u001b[0m\u001b[0;34m)\u001b[0m\u001b[0;34m\u001b[0m\u001b[0;34m\u001b[0m\u001b[0m\n",
      "\u001b[0;32m/opt/hostedtoolcache/Python/3.7.11/x64/lib/python3.7/site-packages/compaslab/tutorial.py\u001b[0m in \u001b[0;36m__init__\u001b[0;34m(self, filename)\u001b[0m\n\u001b[1;32m    120\u001b[0m \u001b[0;34m\u001b[0m\u001b[0m\n\u001b[1;32m    121\u001b[0m     \u001b[0;32mdef\u001b[0m \u001b[0m__init__\u001b[0m\u001b[0;34m(\u001b[0m\u001b[0mself\u001b[0m\u001b[0;34m,\u001b[0m\u001b[0mfilename\u001b[0m\u001b[0;34m)\u001b[0m\u001b[0;34m:\u001b[0m\u001b[0;34m\u001b[0m\u001b[0;34m\u001b[0m\u001b[0m\n\u001b[0;32m--> 122\u001b[0;31m         \u001b[0msuper\u001b[0m\u001b[0;34m(\u001b[0m\u001b[0;34m)\u001b[0m\u001b[0;34m.\u001b[0m\u001b[0m__init__\u001b[0m\u001b[0;34m(\u001b[0m\u001b[0mfilename\u001b[0m\u001b[0;34m)\u001b[0m\u001b[0;34m\u001b[0m\u001b[0;34m\u001b[0m\u001b[0m\n\u001b[0m\u001b[1;32m    123\u001b[0m         \u001b[0mblocks\u001b[0m \u001b[0;34m=\u001b[0m \u001b[0;34m{\u001b[0m\u001b[0;34m}\u001b[0m\u001b[0;34m\u001b[0m\u001b[0;34m\u001b[0m\u001b[0m\n\u001b[1;32m    124\u001b[0m         \u001b[0;32mfor\u001b[0m \u001b[0mi\u001b[0m\u001b[0;34m,\u001b[0m\u001b[0mc\u001b[0m \u001b[0;32min\u001b[0m \u001b[0menumerate\u001b[0m\u001b[0;34m(\u001b[0m\u001b[0mself\u001b[0m\u001b[0;34m.\u001b[0m\u001b[0mtutorial\u001b[0m\u001b[0;34m)\u001b[0m\u001b[0;34m:\u001b[0m\u001b[0;34m\u001b[0m\u001b[0;34m\u001b[0m\u001b[0m\n",
      "\u001b[0;32m/opt/hostedtoolcache/Python/3.7.11/x64/lib/python3.7/site-packages/compaslab/tutorial.py\u001b[0m in \u001b[0;36m__init__\u001b[0;34m(self, filename)\u001b[0m\n\u001b[1;32m     40\u001b[0m \u001b[0;34m\u001b[0m\u001b[0m\n\u001b[1;32m     41\u001b[0m \u001b[0;34m\u001b[0m\u001b[0m\n\u001b[0;32m---> 42\u001b[0;31m         \u001b[0mself\u001b[0m\u001b[0;34m.\u001b[0m\u001b[0mtutorial\u001b[0m \u001b[0;34m=\u001b[0m \u001b[0mtutorial_readers\u001b[0m\u001b[0;34m[\u001b[0m\u001b[0mfmt\u001b[0m\u001b[0;34m]\u001b[0m\u001b[0;34m(\u001b[0m\u001b[0mfilename\u001b[0m\u001b[0;34m)\u001b[0m\u001b[0;34m\u001b[0m\u001b[0;34m\u001b[0m\u001b[0m\n\u001b[0m\u001b[1;32m     43\u001b[0m \u001b[0;34m\u001b[0m\u001b[0m\n\u001b[1;32m     44\u001b[0m         \u001b[0mself\u001b[0m\u001b[0;34m.\u001b[0m\u001b[0mnext_cell\u001b[0m\u001b[0;34m=\u001b[0m \u001b[0;36m0\u001b[0m\u001b[0;34m\u001b[0m\u001b[0;34m\u001b[0m\u001b[0m\n",
      "\u001b[0;32m/opt/hostedtoolcache/Python/3.7.11/x64/lib/python3.7/site-packages/compaslab/tutorial.py\u001b[0m in \u001b[0;36m<lambda>\u001b[0;34m(fn)\u001b[0m\n\u001b[1;32m     11\u001b[0m \u001b[0;34m\u001b[0m\u001b[0m\n\u001b[1;32m     12\u001b[0m \u001b[0;34m\u001b[0m\u001b[0m\n\u001b[0;32m---> 13\u001b[0;31m tutorial_readers = {'ipynb': lambda fn : nbformat.read(fn, as_version =4).cells,\n\u001b[0m\u001b[1;32m     14\u001b[0m                     'md': lambda fn: jupytext.read(fn)['cells']}\n\u001b[1;32m     15\u001b[0m \u001b[0;34m\u001b[0m\u001b[0m\n",
      "\u001b[0;32m/opt/hostedtoolcache/Python/3.7.11/x64/lib/python3.7/site-packages/nbformat/__init__.py\u001b[0m in \u001b[0;36mread\u001b[0;34m(fp, as_version, **kwargs)\u001b[0m\n\u001b[1;32m    141\u001b[0m             \u001b[0;32mreturn\u001b[0m \u001b[0mreads\u001b[0m\u001b[0;34m(\u001b[0m\u001b[0mf\u001b[0m\u001b[0;34m.\u001b[0m\u001b[0mread\u001b[0m\u001b[0;34m(\u001b[0m\u001b[0;34m)\u001b[0m\u001b[0;34m,\u001b[0m \u001b[0mas_version\u001b[0m\u001b[0;34m,\u001b[0m \u001b[0;34m**\u001b[0m\u001b[0mkwargs\u001b[0m\u001b[0;34m)\u001b[0m\u001b[0;34m\u001b[0m\u001b[0;34m\u001b[0m\u001b[0m\n\u001b[1;32m    142\u001b[0m \u001b[0;34m\u001b[0m\u001b[0m\n\u001b[0;32m--> 143\u001b[0;31m     \u001b[0;32mreturn\u001b[0m \u001b[0mreads\u001b[0m\u001b[0;34m(\u001b[0m\u001b[0mbuf\u001b[0m\u001b[0;34m,\u001b[0m \u001b[0mas_version\u001b[0m\u001b[0;34m,\u001b[0m \u001b[0;34m**\u001b[0m\u001b[0mkwargs\u001b[0m\u001b[0;34m)\u001b[0m\u001b[0;34m\u001b[0m\u001b[0;34m\u001b[0m\u001b[0m\n\u001b[0m\u001b[1;32m    144\u001b[0m \u001b[0;34m\u001b[0m\u001b[0m\n\u001b[1;32m    145\u001b[0m \u001b[0;34m\u001b[0m\u001b[0m\n",
      "\u001b[0;32m/opt/hostedtoolcache/Python/3.7.11/x64/lib/python3.7/site-packages/nbformat/__init__.py\u001b[0m in \u001b[0;36mreads\u001b[0;34m(s, as_version, **kwargs)\u001b[0m\n\u001b[1;32m     71\u001b[0m         \u001b[0mThe\u001b[0m \u001b[0mnotebook\u001b[0m \u001b[0mthat\u001b[0m \u001b[0mwas\u001b[0m \u001b[0mread\u001b[0m\u001b[0;34m.\u001b[0m\u001b[0;34m\u001b[0m\u001b[0;34m\u001b[0m\u001b[0m\n\u001b[1;32m     72\u001b[0m     \"\"\"\n\u001b[0;32m---> 73\u001b[0;31m     \u001b[0mnb\u001b[0m \u001b[0;34m=\u001b[0m \u001b[0mreader\u001b[0m\u001b[0;34m.\u001b[0m\u001b[0mreads\u001b[0m\u001b[0;34m(\u001b[0m\u001b[0ms\u001b[0m\u001b[0;34m,\u001b[0m \u001b[0;34m**\u001b[0m\u001b[0mkwargs\u001b[0m\u001b[0;34m)\u001b[0m\u001b[0;34m\u001b[0m\u001b[0;34m\u001b[0m\u001b[0m\n\u001b[0m\u001b[1;32m     74\u001b[0m     \u001b[0;32mif\u001b[0m \u001b[0mas_version\u001b[0m \u001b[0;32mis\u001b[0m \u001b[0;32mnot\u001b[0m \u001b[0mNO_CONVERT\u001b[0m\u001b[0;34m:\u001b[0m\u001b[0;34m\u001b[0m\u001b[0;34m\u001b[0m\u001b[0m\n\u001b[1;32m     75\u001b[0m         \u001b[0mnb\u001b[0m \u001b[0;34m=\u001b[0m \u001b[0mconvert\u001b[0m\u001b[0;34m(\u001b[0m\u001b[0mnb\u001b[0m\u001b[0;34m,\u001b[0m \u001b[0mas_version\u001b[0m\u001b[0;34m)\u001b[0m\u001b[0;34m\u001b[0m\u001b[0;34m\u001b[0m\u001b[0m\n",
      "\u001b[0;32m/opt/hostedtoolcache/Python/3.7.11/x64/lib/python3.7/site-packages/nbformat/reader.py\u001b[0m in \u001b[0;36mreads\u001b[0;34m(s, **kwargs)\u001b[0m\n\u001b[1;32m     56\u001b[0m     \u001b[0;32mfrom\u001b[0m \u001b[0;34m.\u001b[0m \u001b[0;32mimport\u001b[0m \u001b[0mversions\u001b[0m\u001b[0;34m,\u001b[0m \u001b[0mNBFormatError\u001b[0m\u001b[0;34m\u001b[0m\u001b[0;34m\u001b[0m\u001b[0m\n\u001b[1;32m     57\u001b[0m \u001b[0;34m\u001b[0m\u001b[0m\n\u001b[0;32m---> 58\u001b[0;31m     \u001b[0mnb_dict\u001b[0m \u001b[0;34m=\u001b[0m \u001b[0mparse_json\u001b[0m\u001b[0;34m(\u001b[0m\u001b[0ms\u001b[0m\u001b[0;34m,\u001b[0m \u001b[0;34m**\u001b[0m\u001b[0mkwargs\u001b[0m\u001b[0;34m)\u001b[0m\u001b[0;34m\u001b[0m\u001b[0;34m\u001b[0m\u001b[0m\n\u001b[0m\u001b[1;32m     59\u001b[0m     \u001b[0;34m(\u001b[0m\u001b[0mmajor\u001b[0m\u001b[0;34m,\u001b[0m \u001b[0mminor\u001b[0m\u001b[0;34m)\u001b[0m \u001b[0;34m=\u001b[0m \u001b[0mget_version\u001b[0m\u001b[0;34m(\u001b[0m\u001b[0mnb_dict\u001b[0m\u001b[0;34m)\u001b[0m\u001b[0;34m\u001b[0m\u001b[0;34m\u001b[0m\u001b[0m\n\u001b[1;32m     60\u001b[0m     \u001b[0;32mif\u001b[0m \u001b[0mmajor\u001b[0m \u001b[0;32min\u001b[0m \u001b[0mversions\u001b[0m\u001b[0;34m:\u001b[0m\u001b[0;34m\u001b[0m\u001b[0;34m\u001b[0m\u001b[0m\n",
      "\u001b[0;32m/opt/hostedtoolcache/Python/3.7.11/x64/lib/python3.7/site-packages/nbformat/reader.py\u001b[0m in \u001b[0;36mparse_json\u001b[0;34m(s, **kwargs)\u001b[0m\n\u001b[1;32m     15\u001b[0m     \u001b[0;32mexcept\u001b[0m \u001b[0mValueError\u001b[0m \u001b[0;32mas\u001b[0m \u001b[0me\u001b[0m\u001b[0;34m:\u001b[0m\u001b[0;34m\u001b[0m\u001b[0;34m\u001b[0m\u001b[0m\n\u001b[1;32m     16\u001b[0m         \u001b[0;31m# Limit the error message to 80 characters.  Display whatever JSON will fit.\u001b[0m\u001b[0;34m\u001b[0m\u001b[0;34m\u001b[0m\u001b[0;34m\u001b[0m\u001b[0m\n\u001b[0;32m---> 17\u001b[0;31m         \u001b[0;32mraise\u001b[0m \u001b[0mNotJSONError\u001b[0m\u001b[0;34m(\u001b[0m\u001b[0;34m(\u001b[0m\u001b[0;34m\"Notebook does not appear to be JSON: %r\"\u001b[0m \u001b[0;34m%\u001b[0m \u001b[0ms\u001b[0m\u001b[0;34m)\u001b[0m\u001b[0;34m[\u001b[0m\u001b[0;34m:\u001b[0m\u001b[0;36m77\u001b[0m\u001b[0;34m]\u001b[0m \u001b[0;34m+\u001b[0m \u001b[0;34m\"...\"\u001b[0m\u001b[0;34m)\u001b[0m \u001b[0;32mfrom\u001b[0m \u001b[0me\u001b[0m\u001b[0;34m\u001b[0m\u001b[0;34m\u001b[0m\u001b[0m\n\u001b[0m\u001b[1;32m     18\u001b[0m     \u001b[0;32mreturn\u001b[0m \u001b[0mnb_dict\u001b[0m\u001b[0;34m\u001b[0m\u001b[0;34m\u001b[0m\u001b[0m\n\u001b[1;32m     19\u001b[0m \u001b[0;34m\u001b[0m\u001b[0m\n",
      "\u001b[0;31mNotJSONError\u001b[0m: Notebook does not appear to be JSON: b'{\\n \"cells\": [\\n  {\\n   \"cell_type\": \"..."
     ]
    }
   ],
   "source": [
    "tut= compaslab.LiveTutorial('stem_academy.ipynb')\n",
    "\n",
    "for i,curb in enumerate(tut.block_list):\n",
    "    print(' '.join([str(i),curb,'\\n -']),'\\n - '.join(list(tut.blocks[curb].keys())))"
   ]
  },
  {
   "cell_type": "code",
   "execution_count": null,
   "id": "20e0c4ab",
   "metadata": {},
   "outputs": [],
   "source": [
    "tut= compaslab.LiveTutorial('stem_academy_hints.ipynb')\n",
    "\n",
    "for i,curb in enumerate(tut.block_list):\n",
    "    print(' '.join([str(i),curb,'\\n -']),'\\n - '.join(list(tut.blocks[curb].keys())))"
   ]
  },
  {
   "cell_type": "markdown",
   "id": "2387253d",
   "metadata": {},
   "source": [
    "Wrap up"
   ]
  },
  {
   "cell_type": "code",
   "execution_count": null,
   "id": "de4094ce",
   "metadata": {},
   "outputs": [],
   "source": [
    "tut.close()"
   ]
  }
 ],
 "metadata": {
  "jupytext": {
   "formats": "md:myst",
   "text_representation": {
    "extension": ".md",
    "format_name": "myst",
    "format_version": 0.13,
    "jupytext_version": "1.10.3"
   }
  },
  "kernelspec": {
   "display_name": "Python 3",
   "language": "python",
   "name": "python3"
  },
  "language_info": {
   "codemirror_mode": {
    "name": "ipython",
    "version": 3
   },
   "file_extension": ".py",
   "mimetype": "text/x-python",
   "name": "python",
   "nbconvert_exporter": "python",
   "pygments_lexer": "ipython3",
   "version": "3.7.11"
  },
  "source_map": [
   13,
   17,
   21,
   23,
   27,
   34,
   39,
   43
  ]
 },
 "nbformat": 4,
 "nbformat_minor": 5
}