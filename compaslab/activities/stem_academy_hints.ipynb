{
 "cells": [
  {
   "cell_type": "markdown",
   "metadata": {
    "lecture_tools": {
     "block": "intro",
     "type": "narrative"
    }
   },
   "source": [
    "# Replicating Propbulica's COMPAS Audit Challenge\n",
    "\n",
    "\n",
    "## Why COMPAS?\n",
    "\n",
    "\n",
    "Propublica started the COMPAS Debate with the article [Machine Bias](#References).  With their article, they also released details of their methodology and their [data and code](https://github.com/propublica/compas-analysis).  This presents a real data set that can be used for research on how data is used in a criminal justice setting without researchers having to perform their own requests for information, so it has been used and reused a lot of times."
   ]
  },
  {
   "cell_type": "markdown",
   "metadata": {
    "lecture_tools": {
     "block": "setup",
     "type": "instructions"
    }
   },
   "source": [
    "First, we need to import some common libraries,"
   ]
  },
  {
   "cell_type": "code",
   "execution_count": null,
   "metadata": {
    "lecture_tools": {
     "block": "setup",
     "type": "solution"
    }
   },
   "outputs": [],
   "source": [
    "import numpy as np\n",
    "import pandas as pd\n",
    "import scipy\n",
    "import matplotlib.pyplot as plt\n",
    "import seaborn as sns\n",
    "from sklearn.metrics import roc_curve\n",
    "import warnings\n",
    "warnings.filterwarnings('ignore')"
   ]
  },
  {
   "cell_type": "markdown",
   "metadata": {
    "lecture_tools": {
     "block": "data",
     "type": "narrative"
    }
   },
   "source": [
    "## Propublica COMPAS Data\n",
    "\n",
    "The dataset consists of COMPAS scores assigned to defendants over two years 2013-2014 in Broward County, Florida, it was released by Propublica in a [GitHub Repository](https://github.com/propublica/compas-analysis/). These scores are determined by a proprietary algorithm designed to evaluate a persons recidivism risk - the likelihood that they will reoffend. Risk scoring algorithms are widely used by judges to inform their sentencing and bail decisions in the criminal justice system in the United States. The original ProPublica analysis identified a number of fairness concerns around the use of COMPAS scores, including that ''black defendants were nearly twice as likely to be misclassified as higher risk compared to their white counterparts.'' Please see the full article for further details. Use pandas to read in the data and set the `id` column to the index."
   ]
  },
  {
   "cell_type": "code",
   "execution_count": null,
   "metadata": {
    "lecture_tools": {
     "block": "data",
     "type": "template"
    },
    "tags": [
     "raises-exception",
     "remove-output"
    ]
   },
   "outputs": [],
   "source": [
    "# replace the __ with correct values\n",
    "df_pp = pd.__('__',\n",
    "                 header=0).(__)"
   ]
  },
  {
   "cell_type": "code",
   "execution_count": null,
   "metadata": {
    "lecture_tools": {
     "block": "data",
     "type": "hint"
    },
    "tags": [
     "raises-exception",
     "remove-output"
    ]
   },
   "outputs": [],
   "source": [
    "# find the csv file in the repo and use the raw button on github to get the compatible url\n",
    "df_pp = pd.read_csv(\"\",\n",
    "                 header=0).set_index('id')"
   ]
  },
  {
   "cell_type": "code",
   "execution_count": null,
   "metadata": {
    "lecture_tools": {
     "block": "data",
     "type": "solution"
    }
   },
   "outputs": [],
   "source": [
    "df_pp = pd.read_csv(\"https://github.com/propublica/compas-analysis/raw/master/compas-scores-two-years.csv\",\n",
    "                 header=0).set_index('id')"
   ]
  },
  {
   "cell_type": "markdown",
   "metadata": {
    "lecture_tools": {
     "block": "examine",
     "type": "instructions"
    }
   },
   "source": [
    "Look at the list of columns and the first few rows to get an idea of what the dataset looks like."
   ]
  },
  {
   "cell_type": "code",
   "execution_count": null,
   "metadata": {
    "lecture_tools": {
     "block": "examine",
     "type": "solution"
    }
   },
   "outputs": [],
   "source": [
    "print(list(df_pp))\n",
    "print(df_pp.head())"
   ]
  },
  {
   "cell_type": "markdown",
   "metadata": {
    "lecture_tools": {
     "block": "cleandata",
     "type": "narrative"
    }
   },
   "source": [
    "### Data Cleaning\n",
    "\n",
    "For this analysis, we will restrict ourselves to only a few features, and clean the dataset according to the methods using in the original ProPublica analysis.\n",
    "\n",
    "For this tutorial, we've prepared a cleaned copy of the data, that we can import directly."
   ]
  },
  {
   "cell_type": "code",
   "execution_count": null,
   "metadata": {
    "lecture_tools": {
     "block": "cleandata",
     "type": "template"
    },
    "tags": [
     "raises-exception",
     "remove-output"
    ]
   },
   "outputs": [],
   "source": [
    "df = pd.__('https://raw.githubusercontent.com/ml4sts/outreach-compas/main/data/compas_c.csv')"
   ]
  },
  {
   "cell_type": "code",
   "execution_count": null,
   "metadata": {
    "lecture_tools": {
     "block": "cleandata",
     "type": "solution"
    }
   },
   "outputs": [],
   "source": [
    "df = pd.read_csv('https://raw.githubusercontent.com/ml4sts/outreach-compas/main/data/compas_c.csv')"
   ]
  },
  {
   "cell_type": "markdown",
   "metadata": {
    "lecture_tools": {
     "block": "explore",
     "type": "narrative"
    }
   },
   "source": [
    "## Data Exploration\n",
    "\n",
    "Next we provide a few ways to look at the relationships between the attributes in the dataset. Here is an explanation of these values:\n",
    "\n",
    "* `age`: defendant's age\n",
    "* `c_charge_degree`: degree charged (Misdemeanor of Felony)\n",
    "* `race`: defendant's race\n",
    "* `age_cat`: defendant's age quantized in \"less than 25\", \"25-45\", or \"over 45\"\n",
    "* `score_text`: COMPAS score: 'low'(1 to 5), 'medium' (5 to 7), and 'high' (8 to 10).\n",
    "* `sex`: defendant's gender\n",
    "* `priors_count`: number of prior charges\n",
    "* `days_b_screening_arrest`: number of days between charge date and arrest where defendant was screened for compas score\n",
    "* `decile_score`: COMPAS score from 1 to 10 (low risk to high risk)\n",
    "* `is_recid`: if the defendant recidivized\n",
    "* `two_year_recid`: if the defendant within two years\n",
    "* `c_jail_in`: date defendant was imprisoned\n",
    "* `c_jail_out`: date defendant was released from jail\n",
    "* `length_of_stay`: length of jail stay\n",
    "\n",
    "In particular, as in the ProPublica analysis, we are interested in the implications for the treatment of different groups as defined by some **protected attribute**. In particular we will consider race as the protected attribute in our analysis. Next we look at the number of entries for each race."
   ]
  },
  {
   "cell_type": "markdown",
   "metadata": {
    "lecture_tools": {
     "block": "explore",
     "type": "instructions"
    }
   },
   "source": [
    "1. Use `value_counts` to look at how much data is available for each race"
   ]
  },
  {
   "cell_type": "code",
   "execution_count": null,
   "metadata": {
    "lecture_tools": {
     "block": "explore",
     "type": "template"
    },
    "tags": [
     "raises-exception",
     "remove-output"
    ]
   },
   "outputs": [],
   "source": [
    "df['__'].__"
   ]
  },
  {
   "cell_type": "code",
   "execution_count": null,
   "metadata": {
    "lecture_tools": {
     "block": "explore",
     "type": "solution"
    }
   },
   "outputs": [],
   "source": [
    "df['race'].value_counts()"
   ]
  },
  {
   "cell_type": "markdown",
   "metadata": {
    "lecture_tools": {
     "block": "filter",
     "type": "instructions"
    }
   },
   "source": [
    "2. filter to keep data from the two larges groups"
   ]
  },
  {
   "cell_type": "code",
   "execution_count": null,
   "metadata": {
    "lecture_tools": {
     "block": "filter",
     "type": "template"
    },
    "tags": [
     "raises-exception",
     "remove-output"
    ]
   },
   "outputs": [],
   "source": [
    "df = df.loc[df['race'].isin(['',''])]"
   ]
  },
  {
   "cell_type": "code",
   "execution_count": null,
   "metadata": {
    "lecture_tools": {
     "block": "filter",
     "type": "solution"
    }
   },
   "outputs": [],
   "source": [
    "df = df.loc[df['race'].isin(['African-American','Caucasian'])]"
   ]
  },
  {
   "cell_type": "markdown",
   "metadata": {
    "lecture_tools": {
     "block": "distribution",
     "type": "narrative"
    }
   },
   "source": [
    "### COMPAS score distribution\n",
    "\n",
    "Let's look at the COMPAS score distribution between African-Americans and Caucasians (matches the one in the ProPublica article)."
   ]
  },
  {
   "cell_type": "code",
   "execution_count": null,
   "metadata": {
    "lecture_tools": {
     "block": "distribution",
     "type": "template"
    },
    "tags": [
     "raises-exception",
     "remove-output"
    ]
   },
   "outputs": [],
   "source": [
    "race_score_table = df.groupby([___]).size().reset_index().pivot(index='__',columns='___',values=0)\n",
    "\n",
    "# print percentage of defendants in each score category\n",
    "(100*/.sum()).transpose()"
   ]
  },
  {
   "cell_type": "code",
   "execution_count": null,
   "metadata": {
    "lecture_tools": {
     "block": "distribution",
     "type": "solution"
    }
   },
   "outputs": [],
   "source": [
    "race_score_table = df.groupby(['race','decile_score']).size().reset_index().pivot(\n",
    "                                index='decile_score',columns='race',values=0)\n",
    "\n",
    "# percentage of defendants in each score category\n",
    "(100*race_score_table/race_score_table.sum()).transpose()"
   ]
  },
  {
   "cell_type": "markdown",
   "metadata": {
    "lecture_tools": {
     "block": "distributionviz",
     "type": "narrative"
    }
   },
   "source": [
    "Next, make a bar plot  with that table (quickest way is to use pandas plot with `figsize=[12,7]` to make it bigger, plot type is indicated by the `kind` parameter)"
   ]
  },
  {
   "cell_type": "code",
   "execution_count": null,
   "metadata": {
    "lecture_tools": {
     "block": "distributionviz",
     "type": "template"
    },
    "tags": [
     "raises-exception",
     "remove-output"
    ]
   },
   "outputs": [],
   "source": [
    "race_score_table.__(kind='__')"
   ]
  },
  {
   "cell_type": "code",
   "execution_count": null,
   "metadata": {
    "lecture_tools": {
     "block": "distributionviz",
     "type": "solution"
    },
    "tags": [
     "raises-exception",
     "remove-output"
    ]
   },
   "outputs": [],
   "source": [
    "race_score_table.plot(kind='bar')"
   ]
  },
  {
   "cell_type": "markdown",
   "metadata": {
    "lecture_tools": {
     "block": "priors",
     "type": "narrative"
    }
   },
   "source": [
    "As you can observe, there is a large discrepancy. Does this change when we condition on other variables?\n",
    "\n",
    "1. Look at how priors are distributed. Follow what you did above for score by race (or continue for help)"
   ]
  },
  {
   "cell_type": "code",
   "execution_count": null,
   "metadata": {
    "lecture_tools": {
     "block": "priors",
     "type": "solution"
    }
   },
   "outputs": [],
   "source": [
    "priors = df.groupby(['race','priors_count']).size().reset_index().pivot(index='priors_count',columns='race',values=0)\n",
    "priors.plot(kind='bar',figsize=[12,7])"
   ]
  },
  {
   "cell_type": "markdown",
   "metadata": {
    "lecture_tools": {
     "block": "priors2",
     "type": "narrative"
    }
   },
   "source": [
    "1. Look at how scores are distributed for those with more than two priors\n",
    "1. (bonus) What about with less than two priors ?(you can copy or import again the above and modify it)\n",
    "1. (bonus) Look at first time (use `priors_count`) felons (`c_charge_degree` of `F`) under 25. How is this different?"
   ]
  },
  {
   "cell_type": "code",
   "execution_count": null,
   "metadata": {
    "lecture_tools": {
     "block": "priors2",
     "type": "solution"
    }
   },
   "outputs": [],
   "source": [
    "df_2priors = df.loc[df['priors_count']>=2]\n",
    "score_2priors = df_2priors.groupby(['race','decile_score']).size().reset_index().pivot(\n",
    "    index='decile_score',columns='race',values=0)\n",
    "score_2priors.plot(kind='bar',figsize=[15,7])"
   ]
  },
  {
   "cell_type": "markdown",
   "metadata": {
    "lecture_tools": {
     "block": "quantize",
     "type": "narrative"
    }
   },
   "source": [
    "## What happens when we take actual 2-year recidivism values into account? Are the predictions fair?\n",
    "\n",
    "First, we're going to load a different version of the data, it's quantized. Then look at the correlation between the quantized score, the decile score and the actual recidivism."
   ]
  },
  {
   "cell_type": "code",
   "execution_count": null,
   "metadata": {
    "lecture_tools": {
     "block": "quantize",
     "type": "solution"
    }
   },
   "outputs": [],
   "source": [
    "dfQ = pd.read_csv('https://raw.githubusercontent.com/ml4sts/outreach-compas/main/data/compas_cq.csv')"
   ]
  },
  {
   "cell_type": "markdown",
   "metadata": {
    "lecture_tools": {
     "block": "correlationtext",
     "type": "narrative"
    }
   },
   "source": [
    "Is the ground truth correlated to the high/low rating (`score_text`)?"
   ]
  },
  {
   "cell_type": "code",
   "execution_count": null,
   "metadata": {
    "lecture_tools": {
     "block": "correlationtext",
     "type": "solution"
    }
   },
   "outputs": [],
   "source": [
    "# measure with high-low score\n",
    "dfQ[['two_year_recid','score_text']].corr()"
   ]
  },
  {
   "cell_type": "markdown",
   "metadata": {
    "lecture_tools": {
     "block": "correlationdecile",
     "type": "narrative"
    }
   },
   "source": [
    "Is the ground truth correlated to the `decile_score`rating?"
   ]
  },
  {
   "cell_type": "code",
   "execution_count": null,
   "metadata": {
    "lecture_tools": {
     "block": "correlationdecile",
     "type": "solution"
    }
   },
   "outputs": [],
   "source": [
    "dfQ[['two_year_recid','decile_score']].corr()"
   ]
  },
  {
   "cell_type": "markdown",
   "metadata": {
    "lecture_tools": {
     "block": "fairness",
     "type": "narrative"
    }
   },
   "source": [
    "The correlation is not that high. How can we evaluate whether the predictions made by the COMPAS scores are fair, especially considering that they do not predict recidivism rates well?\n",
    "\n",
    "##  Fairness Metrics\n",
    "\n",
    "The question of how to determine if an algorithm is *fair* has seen much debate recently (see this tutorial from the Conference on Fairness, Acountability, and Transparency titled [21 Fairness Definitions and Their Politics](https://fatconference.org/2018/livestream_vh220.html).\n",
    "\n",
    "And in fact some of the definitions are contradictory, and have been shown to be mutually exclusive [2,3] https://www.propublica.org/article/bias-in-criminal-risk-scores-is-mathematically-inevitable-researchers-say\n",
    "\n",
    "Here we will cover 3 notions of fairness and present ways to measure them:\n",
    "\n",
    "1. **Disparate Impact** [4](#References)\n",
    "[The 80% rule](https://en.wikipedia.org/wiki/Disparate_impact#The_80.25_rule)\n",
    "\n",
    "2. **Calibration** [6](#References)\n",
    "\n",
    "4. **Equalized Odds** [5](#References)\n",
    "\n",
    "For the rest of our analysis we will use a binary outcome - COMPAS score <= 4 is LOW RISK, >4 is HIGH RISK."
   ]
  },
  {
   "cell_type": "markdown",
   "metadata": {
    "lecture_tools": {
     "block": "disparateimpact",
     "type": "narrative"
    }
   },
   "source": [
    "### Disparate Impact\n",
    "\n",
    "Disparate impact is a legal concept used to describe situations when an entity such as an employer *inadvertently* discriminates gainst a certain protected group. This is distinct from *disparate treatment* where discrimination is intentional.\n",
    "\n",
    "To demonstrate cases of disparate impact, the Equal Opportunity Commission (EEOC) proposed \"rule of thumb\" is known as the [The 80% rule](https://en.wikipedia.org/wiki/Disparate_impact#The_80.25_rule).\n",
    "\n",
    "Feldman et al. [4](#References) adapted a fairness metric from this  principle. For our application, it states that the percent of defendants predicted to be high risk in each protected group (in this case whites and African-Americans) should be within 80% of each other.\n",
    "\n",
    "Let's evaluate this standard for the COMPAS data."
   ]
  },
  {
   "cell_type": "code",
   "execution_count": null,
   "metadata": {
    "lecture_tools": {
     "block": "disparateimpact",
     "type": "solution"
    }
   },
   "outputs": [],
   "source": [
    "#  Let's measure the disparate impact according to the EEOC rule\n",
    "means_score = dfQ.groupby(['score_text','race']).size().unstack().reset_index()\n",
    "means_score = means_score/means_score.sum()\n",
    "means_score\n",
    "# split this cell for the above to print\n",
    "# compute disparate impact\n",
    "AA_with_high_score = means_score.loc[1,'African-American']\n",
    "C_with_high_score = means_score.loc[1,'Caucasian']\n",
    "\n",
    "C_with_high_score/AA_with_high_score"
   ]
  },
  {
   "cell_type": "markdown",
   "metadata": {
    "lecture_tools": {
     "block": "disparateimpact",
     "type": "interpretation"
    }
   },
   "source": [
    "This ratio is below .8, so there is disparate impact by this rule.  (Taking the priveleged group and the undesirable outcome instead of the disadvantaged group and the favorable outcome)."
   ]
  },
  {
   "cell_type": "markdown",
   "metadata": {
    "lecture_tools": {
     "block": "ditrue",
     "type": "narrative"
    }
   },
   "source": [
    "What if we apply the same rule to the **true** two year rearrest instead of the quantized COMPAS score?"
   ]
  },
  {
   "cell_type": "code",
   "execution_count": null,
   "metadata": {
    "lecture_tools": {
     "block": "ditrue",
     "type": "solution"
    }
   },
   "outputs": [],
   "source": [
    "means_2yr = dfQ.groupby(['two_year_recid','race']).size().unstack()\n",
    "means_2yr = means_2yr/means_2yr.sum()\n",
    "means_2yr\n",
    "\n",
    "# compute disparte impact\n",
    "AA_with_high_score = means_2yr.loc[1,'African-American']\n",
    "C_with_high_score = means_2yr.loc[1,'Caucasian']\n",
    "C_with_high_score/AA_with_high_score"
   ]
  },
  {
   "cell_type": "markdown",
   "metadata": {
    "lecture_tools": {
     "block": "ditrue",
     "type": "interpretation"
    }
   },
   "source": [
    "There is a difference in re-arrest, but not as high as assigned by the COMPAS scores. This is still a disparate impact of the actual arrests (since this not necessarily accurate as a recidivism rate, but it is true rearrest).\n",
    "\n",
    "Now let's measure the difference in scores when we consider both the COMPAS output and true recidivism."
   ]
  },
  {
   "cell_type": "markdown",
   "metadata": {
    "lecture_tools": {
     "block": "calibration",
     "type": "narrative"
    }
   },
   "source": [
    "### Calibration\n",
    "\n",
    "A discussion of using calibration to verify the fairness of a model can be found in Northpoint's (now: Equivant) response to the ProPublica article [6](#References).\n",
    "\n",
    "The basic idea behind calibrating a classifier is that you want the confidence of the predictor to reflect the true outcomes. So, in a well-calibrated classifier, if 100 people are assigned 90% confidence of being in the positive class, then in reality, 90 of them should actually have had a positive label.\n",
    "\n",
    "To use calibration as a fairness metric we compare the calibration of the classifier for each group.  The smaller the difference, the more fair the calssifier.\n",
    "\n",
    "In our problem this can be expressed as given $Y$ indicating two year recidivism, $S_Q$ indicating score (0=low, 1=high medium), and $R$ indicating race, we measure\n",
    "\n",
    "$$\\mathsf{cal} \\triangleq \\frac{\\mathbb{P}\\left(Y=1\\mid S_Q=s,R=\\mbox{African-American} \\right)}{\\mathbb{P}\\left(Y=1 \\mid S_Q=s,R=\\mbox{Caucasian} \\right)},$$ for different scores $s$. Considering our quantized scores, we look at the calibration for $s=1$.\n",
    "\n",
    "\n",
    "#### Discuss\n",
    "1. Do you think this is close enough?\n",
    "1. Which metric do you think is better so far?"
   ]
  },
  {
   "cell_type": "code",
   "execution_count": null,
   "metadata": {
    "lecture_tools": {
     "block": "calibration",
     "type": "solution"
    }
   },
   "outputs": [],
   "source": [
    "# compute averages\n",
    "dfAverage = dfQ.groupby(['race','score_text'])['two_year_recid'].mean().unstack()\n",
    "\n",
    "num = dfAverage.loc['African-American',1]\n",
    "denom = dfAverage.loc['Caucasian',1]\n",
    "cal = num/denom\n",
    "calpercent = 100*(cal-1)\n",
    "print('Calibration: %f' % cal)\n",
    "print('Calibration in percentage: %f%%' % calpercent)"
   ]
  },
  {
   "cell_type": "markdown",
   "metadata": {
    "lecture_tools": {
     "block": "calibration",
     "type": "interpretation"
    }
   },
   "source": [
    "The difference looks much smaller than before. The problem of the above calibration measure is that it depends on the threshold on which we quantized the scores $S_Q$.\n",
    "\n",
    "In order to mitigate this, one might use a variation of this measure called *predictive parity.* In this example, we define predictive parity as\n",
    "\n",
    "$$\\mathsf{PP}(s) \\triangleq \\frac{\\mathbb{P}\\left(Y=1\\mid S\\geq s,R=\\mbox{African-American} \\right)}{\\mathbb{P}\\left(Y=1 \\mid S\\geq s,R=\\mbox{Caucasian} \\right)},$$\n",
    "where $S$ is the original score."
   ]
  },
  {
   "cell_type": "markdown",
   "metadata": {
    "lecture_tools": {
     "block": "plotthresh",
     "type": "narrative"
    }
   },
   "source": [
    "We plot $\\mathsf{PP}(s) $ for $s$ from 1 to 10. Note how predictive parity depends significantly on the threshold."
   ]
  },
  {
   "cell_type": "code",
   "execution_count": null,
   "metadata": {
    "lecture_tools": {
     "block": "plotthresh",
     "type": "solution"
    }
   },
   "outputs": [],
   "source": [
    "# aux function for thresh score\n",
    "def threshScore(x,s):\n",
    "    if x>=s:\n",
    "        return 1\n",
    "    else:\n",
    "        return 0\n",
    "\n",
    "ppv_values = []\n",
    "dfP = dfQ[['race','two_year_recid']].copy()\n",
    "for s in range(1,11):\n",
    "    dfP['threshScore'] = dfQ['decile_score'].apply(lambda x: threshScore(x,s))\n",
    "    dfAverage = dfP.groupby(['race','threshScore'])['two_year_recid'].mean().unstack()\n",
    "    num = dfAverage.loc['African-American',1]\n",
    "    denom = dfAverage.loc['Caucasian',1]\n",
    "    ppv_values.append(100*(num/denom-1))\n",
    "\n",
    "\n",
    "plt.figure(figsize=[10,10])\n",
    "plt.plot(range(1,11),ppv_values)\n",
    "plt.xticks(range(1,11))\n",
    "plt.xlabel('Score Threshold')\n",
    "plt.ylabel('Predictive Parity (percentage)')\n",
    "plt.title('Predictive parity for different thresholds\\n(warning: no error bars)')"
   ]
  },
  {
   "cell_type": "markdown",
   "metadata": {
    "lecture_tools": {
     "block": "eqodds",
     "type": "narrative"
    }
   },
   "source": [
    "### Equalized Odds\n",
    "\n",
    "The last fairness metric we consider is based on the difference in *error rates* between groups. Hardt et al. [5](#References) propose to look at the difference in the true positive and false positive rates for each group. This aligns with the analysis performed by Propublica. We can examine these values looking at is the ROC for each group. We normalize the score between 0 and 1. The ROC thresholds produced by `scikitlearn` are the same.\n",
    "\n",
    "\n",
    "\n",
    "Discuss these results and copmare how these metrics show that there is (or is not) a disparity."
   ]
  },
  {
   "cell_type": "code",
   "execution_count": null,
   "metadata": {
    "lecture_tools": {
     "block": "eqodds",
     "type": "solution"
    }
   },
   "outputs": [],
   "source": [
    "# normalize decile score\n",
    "max_score = dfQ['decile_score'].max()\n",
    "min_score = dfQ['decile_score'].min()\n",
    "dfQ['norm_score'] = (dfQ['decile_score']-min_score)/(max_score-min_score)\n",
    "\n",
    "\n",
    "plt.figure(figsize=[10,10])\n",
    "#plot ROC curve for African-Americans\n",
    "y = dfQ.loc[dfQ['race']=='African-American',['two_year_recid','norm_score']].values\n",
    "fpr1,tpr1,thresh1 = roc_curve(y_true = y[:,0],y_score=y[:,1])\n",
    "plt.plot(fpr1,tpr1)\n",
    "\n",
    "#plot ROC curve for Caucasian\n",
    "y = dfQ.loc[dfQ['race']=='Caucasian',['two_year_recid','norm_score']].values\n",
    "fpr2,tpr2,thresh2 = roc_curve(y_true = y[:,0],y_score=y[:,1])\n",
    "plt.plot(fpr2,tpr2)\n",
    "l = np.linspace(0,1,10)\n",
    "plt.plot(l,l,'k--')\n",
    "\n",
    "plt.xlabel('False Positive Rate')\n",
    "plt.ylabel('True Postitive Rate')\n",
    "plt.title('ROC')\n",
    "plt.legend(['African-American','Caucasian'])"
   ]
  },
  {
   "cell_type": "markdown",
   "metadata": {
    "lecture_tools": {
     "block": "corels",
     "type": "narrative"
    }
   },
   "source": [
    "# Extension: CORELS\n",
    "\n",
    "\n",
    "COPMAS has also been criticized for being a generally opaque system. Some machine learning models are easier to understand than others, for example a rule list is easy to understand.\n",
    "The [CORELS system](https://corels.eecs.harvard.edu/corels/run.html) learns a rule list from the ProPublica data and reports similar accuracy.\n",
    "\n",
    "```\n",
    "if ({Prior-Crimes>3}) then ({label=1})\n",
    "else if ({Age=18-22}) then ({label=1})\n",
    "else ({label=0})\n",
    "```"
   ]
  },
  {
   "cell_type": "markdown",
   "metadata": {
    "lecture_tools": {
     "block": "corels",
     "type": "instructions"
    }
   },
   "source": [
    "Let's investigate how the rule learned by CORELS compares.\n",
    "1. Write a function that takes one row of the data frame and computes the corels function\n",
    "1. Use `df.apply` to apply your function and add a column to the data frame with the corels score\n",
    "1. Evaluate the CORELS prediction with respect to accuracy, and fairness following the above"
   ]
  },
  {
   "cell_type": "code",
   "execution_count": null,
   "metadata": {
    "lecture_tools": {
     "block": "calibration",
     "type": "template"
    },
    "tags": [
     "raises-exception",
     "remove-output"
    ]
   },
   "outputs": [],
   "source": [
    "def corels_rule(row):\n",
    "    if ___:\n",
    "        return __\n",
    "    elif ___:\n",
    "        return __\n",
    "    else:\n",
    "        return False\n",
    "\n",
    "df['corels'] = df.apply(____,axis=1)\n",
    "\n",
    "#  Let's measure the disparate impact according to the EEOC rule\n",
    "means_corel = df.groupby(['corels','race']).size().unstack().reset_index()\n",
    "means_corel = means_corel/means_corel.sum()\n",
    "means_corel"
   ]
  },
  {
   "cell_type": "code",
   "execution_count": null,
   "metadata": {
    "lecture_tools": {
     "block": "calibration",
     "type": "solution"
    }
   },
   "outputs": [],
   "source": [
    "def corels_rule(row):\n",
    "    if row['priors_count'] > 3:\n",
    "        return True\n",
    "    elif row['age'] == 'Less than 25':\n",
    "        return True\n",
    "    else:\n",
    "        return False\n",
    "\n",
    "df['corels'] = df.apply(corels_rule,axis=1)\n",
    "\n",
    "#  Let's measure the disparate impact according to the EEOC rule\n",
    "means_corel = df.groupby(['corels','race']).size().unstack().reset_index()\n",
    "means_corel = means_corel/means_corel.sum()\n",
    "means_corel"
   ]
  }
 ],
 "metadata": {
  "jupytext": {
   "formats": "md:myst,ipynb"
  },
  "kernelspec": {
   "display_name": "Python 3",
   "language": "python",
   "name": "python3"
  },
  "language_info": {
   "codemirror_mode": {
    "name": "ipython",
    "version": 3
   },
   "file_extension": ".py",
   "mimetype": "text/x-python",
   "name": "python",
   "nbconvert_exporter": "python",
   "pygments_lexer": "ipython3",
   "version": "3.8.6"
  }
 },
 "nbformat": 4,
 "nbformat_minor": 4
}
