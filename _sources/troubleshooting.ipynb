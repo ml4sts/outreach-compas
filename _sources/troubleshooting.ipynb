{
 "cells": [
  {
   "cell_type": "markdown",
   "id": "a3d4e96e",
   "metadata": {},
   "source": [
    "# How to fix common errors\n",
    "\n",
    "\n",
    "## Fix it yourself\n",
    "\n",
    "\n",
    "1. If you see something like `pd is not defined` look for a cell that includes\n",
    "`import pandas as pd` and make sure that is has been run.\n",
    "1. If you see `NameError` Check that all of the code cells have a number to the left that says that they have run. If they have not, click on each one that has not yet run, and run that one again.\n",
    "\n",
    "    ```{code-cell} ipython3\n",
    "    # this cell is run and has output\n",
    "    4+3\n",
    "    ```\n",
    "    ```{code-cell} ipython3\n",
    "    # this cell is run and has no output\n",
    "    ```\n",
    "\n",
    "    ```\n",
    "    # this cell is not run\n",
    "    4+3\n",
    "    ```\n",
    "1. If you see output like `<bound method ...` check that you used `tut.next()`\n",
    "with the `()`\n",
    "1. To go back, use `tut.previous()` or `tut.previous(3)` to go back 3 steps, you\n",
    "can go back any number of steps\n",
    "1. To repeat a step use `tut.repeat()`\n",
    "\n",
    "\n",
    "\n",
    "## Useful cells to copy\n",
    "\n",
    "These bits are common lines that are useful to copy, but knowing when to use\n",
    "them might require the advice of a a TA or helper.\n",
    "\n",
    "original dataset:\n",
    "```\n",
    "df_pp = pd.read_csv(\"https://github.com/propublica/compas-analysis/raw/master/compas-scores-two-years.csv\", header=0).set_index('id')\n",
    "```\n",
    "\n",
    "clean dataset:\n",
    "\n",
    "```\n",
    "df = pd.read_csv('https://raw.githubusercontent.com/ml4sts/outreach-compas/main/data/compas_c.csv')\n",
    "```\n",
    "\n",
    "quantized dataset:\n",
    "\n",
    "```\n",
    "dfQ = pd.read_csv('https://raw.githubusercontent.com/ml4sts/outreach-compas/main/data/compas_cq.csv')\n",
    "```"
   ]
  }
 ],
 "metadata": {
  "jupytext": {
   "text_representation": {
    "extension": ".md",
    "format_name": "myst",
    "format_version": 0.13,
    "jupytext_version": "1.10.3"
   }
  },
  "kernelspec": {
   "display_name": "Python 3",
   "language": "python",
   "name": "python3"
  },
  "language_info": {
   "codemirror_mode": {
    "name": "ipython",
    "version": 3
   },
   "file_extension": ".py",
   "mimetype": "text/x-python",
   "name": "python",
   "nbconvert_exporter": "python",
   "pygments_lexer": "ipython3",
   "version": "3.7.11"
  },
  "source_map": [
   12
  ]
 },
 "nbformat": 4,
 "nbformat_minor": 5
}