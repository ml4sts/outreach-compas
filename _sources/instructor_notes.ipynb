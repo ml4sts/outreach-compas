{
 "cells": [
  {
   "cell_type": "markdown",
   "id": "cd5a1fb7",
   "metadata": {},
   "source": [
    "# Instructor Notes\n",
    "\n",
    "Always, remember to uninstall first so that you install the same version as the\n",
    "learners\n",
    "\n",
    "```\n",
    "pip uninstall compaslab\n",
    "```"
   ]
  },
  {
   "cell_type": "code",
   "execution_count": 1,
   "id": "b24604ec",
   "metadata": {},
   "outputs": [
    {
     "name": "stdout",
     "output_type": "stream",
     "text": [
      "Processing /home/runner/work/outreach-compas/outreach-compas\r\n",
      "\u001b[33m  DEPRECATION: A future pip version will change local packages to be built in-place without first copying to a temporary directory. We recommend you use --use-feature=in-tree-build to test your packages with this new behavior before it becomes the default.\r\n",
      "   pip 21.3 will remove support for this functionality. You can find discussion regarding this at https://github.com/pypa/pip/issues/7555.\u001b[0m\r\n"
     ]
    },
    {
     "name": "stdout",
     "output_type": "stream",
     "text": [
      "Requirement already satisfied: Numpy in /opt/hostedtoolcache/Python/3.7.11/x64/lib/python3.7/site-packages (from compaslab==0.1) (1.21.2)\r\n",
      "Requirement already satisfied: Pandas in /opt/hostedtoolcache/Python/3.7.11/x64/lib/python3.7/site-packages (from compaslab==0.1) (1.3.2)\r\n"
     ]
    },
    {
     "name": "stdout",
     "output_type": "stream",
     "text": [
      "Collecting Seaborn\r\n"
     ]
    },
    {
     "name": "stdout",
     "output_type": "stream",
     "text": [
      "  Downloading seaborn-0.11.2-py3-none-any.whl (292 kB)\r\n",
      "\u001b[?25l\r",
      "\u001b[K     |█▏                              | 10 kB 30.0 MB/s eta 0:00:01\r",
      "\u001b[K     |██▎                             | 20 kB 35.5 MB/s eta 0:00:01\r",
      "\u001b[K     |███▍                            | 30 kB 41.0 MB/s eta 0:00:01\r",
      "\u001b[K     |████▌                           | 40 kB 9.5 MB/s eta 0:00:01\r",
      "\u001b[K     |█████▋                          | 51 kB 11.1 MB/s eta 0:00:01\r",
      "\u001b[K     |██████▊                         | 61 kB 12.9 MB/s eta 0:00:01\r",
      "\u001b[K     |███████▉                        | 71 kB 7.3 MB/s eta 0:00:01\r",
      "\u001b[K     |█████████                       | 81 kB 8.2 MB/s eta 0:00:01\r",
      "\u001b[K     |██████████                      | 92 kB 9.2 MB/s eta 0:00:01\r",
      "\u001b[K     |███████████▏                    | 102 kB 9.9 MB/s eta 0:00:01\r",
      "\u001b[K     |████████████▎                   | 112 kB 9.9 MB/s eta 0:00:01\r",
      "\u001b[K     |█████████████▍                  | 122 kB 9.9 MB/s eta 0:00:01\r",
      "\u001b[K     |██████████████▌                 | 133 kB 9.9 MB/s eta 0:00:01\r",
      "\u001b[K     |███████████████▊                | 143 kB 9.9 MB/s eta 0:00:01\r",
      "\u001b[K     |████████████████▉               | 153 kB 9.9 MB/s eta 0:00:01\r",
      "\u001b[K     |██████████████████              | 163 kB 9.9 MB/s eta 0:00:01\r",
      "\u001b[K     |███████████████████             | 174 kB 9.9 MB/s eta 0:00:01\r",
      "\u001b[K     |████████████████████▏           | 184 kB 9.9 MB/s eta 0:00:01\r",
      "\u001b[K     |█████████████████████▎          | 194 kB 9.9 MB/s eta 0:00:01\r",
      "\u001b[K     |██████████████████████▍         | 204 kB 9.9 MB/s eta 0:00:01\r",
      "\u001b[K     |███████████████████████▌        | 215 kB 9.9 MB/s eta 0:00:01\r",
      "\u001b[K     |████████████████████████▋       | 225 kB 9.9 MB/s eta 0:00:01\r",
      "\u001b[K     |█████████████████████████▊      | 235 kB 9.9 MB/s eta 0:00:01\r",
      "\u001b[K     |██████████████████████████▉     | 245 kB 9.9 MB/s eta 0:00:01\r",
      "\u001b[K     |████████████████████████████    | 256 kB 9.9 MB/s eta 0:00:01\r",
      "\u001b[K     |█████████████████████████████   | 266 kB 9.9 MB/s eta 0:00:01\r",
      "\u001b[K     |██████████████████████████████▏ | 276 kB 9.9 MB/s eta 0:00:01\r",
      "\u001b[K     |███████████████████████████████▍| 286 kB 9.9 MB/s eta 0:00:01\r",
      "\u001b[K     |████████████████████████████████| 292 kB 9.9 MB/s \r\n",
      "\u001b[?25hRequirement already satisfied: Jupytext in /opt/hostedtoolcache/Python/3.7.11/x64/lib/python3.7/site-packages (from compaslab==0.1) (1.10.3)\r\n",
      "Requirement already satisfied: toml in /opt/hostedtoolcache/Python/3.7.11/x64/lib/python3.7/site-packages (from Jupytext->compaslab==0.1) (0.10.2)\r\n",
      "Requirement already satisfied: pyyaml in /opt/hostedtoolcache/Python/3.7.11/x64/lib/python3.7/site-packages (from Jupytext->compaslab==0.1) (5.4.1)\r\n",
      "Requirement already satisfied: nbformat in /opt/hostedtoolcache/Python/3.7.11/x64/lib/python3.7/site-packages (from Jupytext->compaslab==0.1) (5.1.3)\r\n"
     ]
    },
    {
     "name": "stdout",
     "output_type": "stream",
     "text": [
      "Requirement already satisfied: markdown-it-py~=0.6.0 in /opt/hostedtoolcache/Python/3.7.11/x64/lib/python3.7/site-packages (from Jupytext->compaslab==0.1) (0.6.2)\r\n",
      "Requirement already satisfied: mdit-py-plugins~=0.2.1 in /opt/hostedtoolcache/Python/3.7.11/x64/lib/python3.7/site-packages (from markdown-it-py~=0.6.0->Jupytext->compaslab==0.1) (0.2.6)\r\n",
      "Requirement already satisfied: attrs<21,>=19 in /opt/hostedtoolcache/Python/3.7.11/x64/lib/python3.7/site-packages (from markdown-it-py~=0.6.0->Jupytext->compaslab==0.1) (20.3.0)\r\n"
     ]
    },
    {
     "name": "stdout",
     "output_type": "stream",
     "text": [
      "Requirement already satisfied: jupyter-core in /opt/hostedtoolcache/Python/3.7.11/x64/lib/python3.7/site-packages (from nbformat->Jupytext->compaslab==0.1) (4.7.1)\r\n",
      "Requirement already satisfied: jsonschema!=2.5.0,>=2.4 in /opt/hostedtoolcache/Python/3.7.11/x64/lib/python3.7/site-packages (from nbformat->Jupytext->compaslab==0.1) (3.2.0)\r\n",
      "Requirement already satisfied: traitlets>=4.1 in /opt/hostedtoolcache/Python/3.7.11/x64/lib/python3.7/site-packages (from nbformat->Jupytext->compaslab==0.1) (5.0.5)\r\n",
      "Requirement already satisfied: ipython-genutils in /opt/hostedtoolcache/Python/3.7.11/x64/lib/python3.7/site-packages (from nbformat->Jupytext->compaslab==0.1) (0.2.0)\r\n",
      "Requirement already satisfied: importlib-metadata in /opt/hostedtoolcache/Python/3.7.11/x64/lib/python3.7/site-packages (from jsonschema!=2.5.0,>=2.4->nbformat->Jupytext->compaslab==0.1) (4.7.1)\r\n",
      "Requirement already satisfied: setuptools in /opt/hostedtoolcache/Python/3.7.11/x64/lib/python3.7/site-packages (from jsonschema!=2.5.0,>=2.4->nbformat->Jupytext->compaslab==0.1) (47.1.0)\r\n",
      "Requirement already satisfied: six>=1.11.0 in /opt/hostedtoolcache/Python/3.7.11/x64/lib/python3.7/site-packages (from jsonschema!=2.5.0,>=2.4->nbformat->Jupytext->compaslab==0.1) (1.16.0)\r\n",
      "Requirement already satisfied: pyrsistent>=0.14.0 in /opt/hostedtoolcache/Python/3.7.11/x64/lib/python3.7/site-packages (from jsonschema!=2.5.0,>=2.4->nbformat->Jupytext->compaslab==0.1) (0.18.0)\r\n"
     ]
    },
    {
     "name": "stdout",
     "output_type": "stream",
     "text": [
      "Requirement already satisfied: typing-extensions>=3.6.4 in /opt/hostedtoolcache/Python/3.7.11/x64/lib/python3.7/site-packages (from importlib-metadata->jsonschema!=2.5.0,>=2.4->nbformat->Jupytext->compaslab==0.1) (3.10.0.0)\r\n",
      "Requirement already satisfied: zipp>=0.5 in /opt/hostedtoolcache/Python/3.7.11/x64/lib/python3.7/site-packages (from importlib-metadata->jsonschema!=2.5.0,>=2.4->nbformat->Jupytext->compaslab==0.1) (3.5.0)\r\n",
      "Requirement already satisfied: python-dateutil>=2.7.3 in /opt/hostedtoolcache/Python/3.7.11/x64/lib/python3.7/site-packages (from Pandas->compaslab==0.1) (2.8.2)\r\n",
      "Requirement already satisfied: pytz>=2017.3 in /opt/hostedtoolcache/Python/3.7.11/x64/lib/python3.7/site-packages (from Pandas->compaslab==0.1) (2021.1)\r\n",
      "Requirement already satisfied: scipy>=1.0 in /opt/hostedtoolcache/Python/3.7.11/x64/lib/python3.7/site-packages (from Seaborn->compaslab==0.1) (1.7.1)\r\n",
      "Requirement already satisfied: matplotlib>=2.2 in /opt/hostedtoolcache/Python/3.7.11/x64/lib/python3.7/site-packages (from Seaborn->compaslab==0.1) (3.4.3)\r\n",
      "Requirement already satisfied: pillow>=6.2.0 in /opt/hostedtoolcache/Python/3.7.11/x64/lib/python3.7/site-packages (from matplotlib>=2.2->Seaborn->compaslab==0.1) (8.3.1)\r\n"
     ]
    },
    {
     "name": "stdout",
     "output_type": "stream",
     "text": [
      "Requirement already satisfied: kiwisolver>=1.0.1 in /opt/hostedtoolcache/Python/3.7.11/x64/lib/python3.7/site-packages (from matplotlib>=2.2->Seaborn->compaslab==0.1) (1.3.2)\r\n",
      "Requirement already satisfied: pyparsing>=2.2.1 in /opt/hostedtoolcache/Python/3.7.11/x64/lib/python3.7/site-packages (from matplotlib>=2.2->Seaborn->compaslab==0.1) (2.4.7)\r\n",
      "Requirement already satisfied: cycler>=0.10 in /opt/hostedtoolcache/Python/3.7.11/x64/lib/python3.7/site-packages (from matplotlib>=2.2->Seaborn->compaslab==0.1) (0.10.0)\r\n",
      "Building wheels for collected packages: compaslab\r\n"
     ]
    },
    {
     "name": "stdout",
     "output_type": "stream",
     "text": [
      "  Building wheel for compaslab (setup.py) ... \u001b[?25l-"
     ]
    },
    {
     "name": "stdout",
     "output_type": "stream",
     "text": [
      "\b \b\\"
     ]
    },
    {
     "name": "stdout",
     "output_type": "stream",
     "text": [
      "\b \bdone\r\n",
      "\u001b[?25h  Created wheel for compaslab: filename=compaslab-0.1-py3-none-any.whl size=46995 sha256=dda559ca257c54a3b8c7fe6ab29d3a68521de2488521691c14da6340b9657c53\r\n",
      "  Stored in directory: /home/runner/.cache/pip/wheels/4c/47/d4/cffe8955e7f8ef2c34b68f52da68324beafd1be896c6d33083\r\n",
      "Successfully built compaslab\r\n"
     ]
    },
    {
     "name": "stdout",
     "output_type": "stream",
     "text": [
      "Installing collected packages: Seaborn, compaslab\r\n"
     ]
    },
    {
     "name": "stdout",
     "output_type": "stream",
     "text": [
      "Successfully installed Seaborn-0.11.2 compaslab-0.1\r\n"
     ]
    },
    {
     "name": "stdout",
     "output_type": "stream",
     "text": [
      "Note: you may need to restart the kernel to use updated packages.\n"
     ]
    }
   ],
   "source": [
    "pip install ../."
   ]
  },
  {
   "cell_type": "code",
   "execution_count": 2,
   "id": "b96107c3",
   "metadata": {},
   "outputs": [],
   "source": [
    "import compaslab"
   ]
  },
  {
   "cell_type": "markdown",
   "id": "bd1e2a20",
   "metadata": {},
   "source": [
    "## TD STEM Academy"
   ]
  },
  {
   "cell_type": "code",
   "execution_count": 3,
   "id": "f5210b22",
   "metadata": {},
   "outputs": [
    {
     "name": "stdout",
     "output_type": "stream",
     "text": [
      "0 intro \n",
      " - narrative\n",
      "1 setup \n",
      " - instructions\n",
      " - solution\n",
      "2 data \n",
      " - narrative\n",
      " - solution\n",
      "3 examine \n",
      " - instructions\n",
      " - solution\n",
      "4 cleandata \n",
      " - narrative\n",
      " - solution\n",
      "5 explore \n",
      " - narrative\n",
      " - instructions\n",
      " - solution\n",
      "6 distribution \n",
      " - narrative\n",
      " - solution\n",
      "7 distributionviz \n",
      " - narrative\n",
      " - solution\n",
      "8 priors \n",
      " - narrative\n",
      " - solution\n",
      "9 priors2 \n",
      " - narrative\n",
      " - solution\n",
      "10 quantize \n",
      " - narrative\n",
      " - solution\n",
      "11 correlationtext \n",
      " - narrative\n",
      " - solution\n",
      "12 correlationdecile \n",
      " - narrative\n",
      " - solution\n",
      "13 fairness \n",
      " - narrative\n",
      "14 disparateimpact \n",
      " - narrative\n",
      " - solution\n",
      " - interpretation\n",
      "15 ditrue \n",
      " - narrative\n",
      " - solution\n",
      " - interpretation\n",
      "16 calibration \n",
      " - narrative\n",
      " - solution\n",
      " - interpretation\n",
      "17 plotthresh \n",
      " - narrative\n",
      " - solution\n",
      "18 eqodds \n",
      " - narrative\n",
      " - solution\n",
      "19 corels \n",
      " - narrative\n",
      " - instructions\n"
     ]
    }
   ],
   "source": [
    "tut= compaslab.LiveTutorial('stem_academy.ipynb')\n",
    "\n",
    "for i,curb in enumerate(tut.block_list):\n",
    "    print(' '.join([str(i),curb,'\\n -']),'\\n - '.join(list(tut.blocks[curb].keys())))"
   ]
  },
  {
   "cell_type": "code",
   "execution_count": 4,
   "id": "a6fb0036",
   "metadata": {},
   "outputs": [
    {
     "name": "stdout",
     "output_type": "stream",
     "text": [
      "0 intro \n",
      " - narrative\n",
      "1 setup \n",
      " - instructions\n",
      " - solution\n",
      "2 data \n",
      " - narrative\n",
      " - template\n",
      " - hint\n",
      " - solution\n",
      "3 examine \n",
      " - instructions\n",
      " - solution\n",
      "4 cleandata \n",
      " - narrative\n",
      " - template\n",
      " - solution\n",
      "5 explore \n",
      " - narrative\n",
      " - instructions\n",
      " - template\n",
      " - solution\n",
      "6 filter \n",
      " - instructions\n",
      " - template\n",
      " - solution\n",
      "7 distribution \n",
      " - narrative\n",
      " - template\n",
      " - solution\n",
      "8 distributionviz \n",
      " - narrative\n",
      " - template\n",
      " - solution\n",
      "9 priors \n",
      " - narrative\n",
      " - solution\n",
      "10 priors2 \n",
      " - narrative\n",
      " - solution\n",
      "11 quantize \n",
      " - narrative\n",
      " - solution\n",
      "12 correlationtext \n",
      " - narrative\n",
      " - solution\n",
      "13 correlationdecile \n",
      " - narrative\n",
      " - solution\n",
      "14 fairness \n",
      " - narrative\n",
      "15 disparateimpact \n",
      " - narrative\n",
      " - solution\n",
      " - interpretation\n",
      "16 ditrue \n",
      " - narrative\n",
      " - solution\n",
      " - interpretation\n",
      "17 calibration \n",
      " - narrative\n",
      " - solution\n",
      " - interpretation\n",
      " - template\n",
      "18 plotthresh \n",
      " - narrative\n",
      " - solution\n",
      "19 eqodds \n",
      " - narrative\n",
      " - solution\n",
      "20 corels \n",
      " - narrative\n",
      " - instructions\n"
     ]
    }
   ],
   "source": [
    "tut= compaslab.LiveTutorial('stem_academy_hints.ipynb')\n",
    "\n",
    "for i,curb in enumerate(tut.block_list):\n",
    "    print(' '.join([str(i),curb,'\\n -']),'\\n - '.join(list(tut.blocks[curb].keys())))"
   ]
  },
  {
   "cell_type": "markdown",
   "id": "60aac103",
   "metadata": {},
   "source": [
    "Wrap up"
   ]
  },
  {
   "cell_type": "code",
   "execution_count": 5,
   "id": "fcba72f9",
   "metadata": {},
   "outputs": [],
   "source": [
    "tut.close()"
   ]
  }
 ],
 "metadata": {
  "jupytext": {
   "formats": "md:myst",
   "text_representation": {
    "extension": ".md",
    "format_name": "myst",
    "format_version": 0.13,
    "jupytext_version": "1.10.3"
   }
  },
  "kernelspec": {
   "display_name": "Python 3",
   "language": "python",
   "name": "python3"
  },
  "language_info": {
   "codemirror_mode": {
    "name": "ipython",
    "version": 3
   },
   "file_extension": ".py",
   "mimetype": "text/x-python",
   "name": "python",
   "nbconvert_exporter": "python",
   "pygments_lexer": "ipython3",
   "version": "3.7.11"
  },
  "source_map": [
   13,
   24,
   28,
   30,
   34,
   41,
   46,
   50
  ]
 },
 "nbformat": 4,
 "nbformat_minor": 5
}