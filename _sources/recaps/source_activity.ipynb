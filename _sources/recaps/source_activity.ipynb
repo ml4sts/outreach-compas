{
 "cells": [
  {
   "cell_type": "markdown",
   "id": "55936651",
   "metadata": {},
   "source": [
    "# Bias in AI Systems\n",
    "\n",
    "\n",
    "\n",
    "\n",
    "## Why COMPAS?\n",
    "\n",
    "\n",
    "Propublica started the COMPAS Debate with the article [Machine Bias](#References).  With their article, they also released details of their methodology and their [data and code](https://github.com/propublica/compas-analysis).  This presents a real data set that can be used for research on how data is used in a criminal justice setting without researchers having to perform their own requests for information, so it has been used and reused a lot of times.\n",
    "\n",
    "\n",
    "Get started by configuring your notebook `%load code/config`\n",
    "\n",
    "Then get the next instructions with: `mdshow('code/case.md')`"
   ]
  },
  {
   "cell_type": "code",
   "execution_count": 1,
   "id": "bbca96bf",
   "metadata": {},
   "outputs": [
    {
     "ename": "ModuleNotFoundError",
     "evalue": "No module named 'seaborn'",
     "output_type": "error",
     "traceback": [
      "\u001b[0;31m---------------------------------------------------------------------------\u001b[0m",
      "\u001b[0;31mModuleNotFoundError\u001b[0m                       Traceback (most recent call last)",
      "\u001b[0;32m/tmp/ipykernel_1874/792325027.py\u001b[0m in \u001b[0;36m<module>\u001b[0;34m\u001b[0m\n\u001b[1;32m      3\u001b[0m \u001b[0;32mimport\u001b[0m \u001b[0mscipy\u001b[0m\u001b[0;34m\u001b[0m\u001b[0;34m\u001b[0m\u001b[0m\n\u001b[1;32m      4\u001b[0m \u001b[0;32mimport\u001b[0m \u001b[0mmatplotlib\u001b[0m\u001b[0;34m.\u001b[0m\u001b[0mpyplot\u001b[0m \u001b[0;32mas\u001b[0m \u001b[0mplt\u001b[0m\u001b[0;34m\u001b[0m\u001b[0;34m\u001b[0m\u001b[0m\n\u001b[0;32m----> 5\u001b[0;31m \u001b[0;32mimport\u001b[0m \u001b[0mseaborn\u001b[0m \u001b[0;32mas\u001b[0m \u001b[0msns\u001b[0m\u001b[0;34m\u001b[0m\u001b[0;34m\u001b[0m\u001b[0m\n\u001b[0m\u001b[1;32m      6\u001b[0m \u001b[0;32mimport\u001b[0m \u001b[0mitertools\u001b[0m\u001b[0;34m\u001b[0m\u001b[0;34m\u001b[0m\u001b[0m\n\u001b[1;32m      7\u001b[0m \u001b[0;32mfrom\u001b[0m \u001b[0msklearn\u001b[0m\u001b[0;34m.\u001b[0m\u001b[0mmetrics\u001b[0m \u001b[0;32mimport\u001b[0m \u001b[0mroc_curve\u001b[0m\u001b[0;34m\u001b[0m\u001b[0;34m\u001b[0m\u001b[0m\n",
      "\u001b[0;31mModuleNotFoundError\u001b[0m: No module named 'seaborn'"
     ]
    }
   ],
   "source": [
    "import numpy as np\n",
    "import pandas as pd\n",
    "import scipy\n",
    "import matplotlib.pyplot as plt\n",
    "import seaborn as sns\n",
    "import itertools\n",
    "from sklearn.metrics import roc_curve\n",
    "from utilities import *\n",
    "%matplotlib inline\n",
    "import warnings\n",
    "warnings.filterwarnings('ignore')"
   ]
  },
  {
   "cell_type": "markdown",
   "id": "bd42a3b7",
   "metadata": {},
   "source": [
    "## A COMPAS Case study\n",
    "\n",
    "Next, let's look at what COMPAS is before we look at the data.\n",
    "\n",
    "The COMPAS score comes from the results of a [137 item survey](compas-core-sample.pdf).  It is distributed with a long [Practitioner's guide](compas_guide.pdf) that describes how it was developed and validated including which criminal theories it relies on. The claim is that COMPAS predicts two-year recidivism.  It has an accuracy around 67%.\n",
    "\n",
    "### Discussion Questions\n",
    "\n",
    "Breifly skim those and discuss things you find with your group. Make notes in the shared document about the following questions:\n",
    "\n",
    "1. If the survey is administered through a social worker vs the defendant answering independently how might that impact responses?\n",
    "1. How does knowing that the COMPAS score comes from that survey impact your view of it?  What problems might you predict?\n",
    "1. Who might this survey privilege?\n",
    "\n",
    "when you're done run: `mdshow('code/data.md')`"
   ]
  },
  {
   "cell_type": "markdown",
   "id": "d5b73187",
   "metadata": {},
   "source": [
    "# %load code/data.md\n",
    "## Propublica COMPAS Data\n",
    "\n",
    "The dataset consists of COMPAS scores assigned to defendants over two years 2013-2014 in Broward County, Florida. These scores are determined by a proprietary algorithm designed to evaluate a persons recidivism risk - the likelihood that they will reoffend. Risk scoring algorithms are widely used by judges to inform their scentencing and bail decisions in the criminal justice system in the United States. The original ProPublica analysis identified a number of fairness concerns around the use of COMPAS scores, including that ''black defendants were nearly twice as likely to be misclassified as higher risk compared to their white counterparts.'' Please see the full article for further details.\n",
    "\n",
    "Load the data and begin EDA with `%load code/data`\n",
    "\n",
    "\n",
    "Then get the next instructions with `mdshow('code/clean.md')`"
   ]
  },
  {
   "cell_type": "code",
   "execution_count": null,
   "id": "ce054533",
   "metadata": {},
   "outputs": [],
   "source": [
    "# %load code/data\n",
    "df = pd.read_csv(\"https://github.com/propublica/compas-analysis/raw/master/compas-scores-two-years.csv\",\n",
    "                 header=0).set_index('id')\n",
    "\n",
    "print(list(df))\n",
    "print(df.head())"
   ]
  },
  {
   "cell_type": "markdown",
   "id": "57a2b0bf",
   "metadata": {},
   "source": [
    "# %load code/clean.md\n",
    "### Data Cleaning\n",
    "\n",
    "For this analysis, we will restrict ourselves to only a few features, and clean the dataset according to the methods using in the original ProPublica analysis.\n",
    "\n",
    "Details of the cleaning method can be found in the utilities file.\n",
    "\n",
    "use `%load code/clean` to clean the data.\n",
    "\n",
    "Discuss the changes:\n",
    "- how much data was removed?\n",
    "- note which columns were retained\n",
    "\n",
    "Continue your eda with `mdshow('code/explore.md')`"
   ]
  },
  {
   "cell_type": "code",
   "execution_count": null,
   "id": "1c117865",
   "metadata": {},
   "outputs": [],
   "source": [
    "# %load code/clean\n",
    "# Select features that will be analyzed\n",
    "features_to_keep = ['age', 'c_charge_degree', 'race', 'age_cat', 'score_text', 'sex', 'priors_count',\n",
    "                    'days_b_screening_arrest', 'decile_score', 'is_recid', 'two_year_recid', 'c_jail_in',\n",
    "                    'c_jail_out']\n",
    "df = df[features_to_keep]\n",
    "df = clean_compas(df)\n",
    "df.head()\n",
    "print(\"\\ndataset shape (rows, columns)\", df.shape)"
   ]
  },
  {
   "cell_type": "markdown",
   "id": "299a6c64",
   "metadata": {},
   "source": [
    "# %load code/explore.md\n",
    "## Data Exploration\n",
    "\n",
    "Next we provide a few ways to look at the relationships between the attributes in the dataset. Here is an explanation of these values:\n",
    "\n",
    "* `age`: defendant's age\n",
    "* `c_charge_degree`: degree charged (Misdemeanor of Felony)\n",
    "* `race`: defendant's race\n",
    "* `age_cat`: defendant's age quantized in \"less than 25\", \"25-45\", or \"over 45\"\n",
    "* `score_text`: COMPAS score: 'low'(1 to 5), 'medium' (5 to 7), and 'high' (8 to 10).\n",
    "* `sex`: defendant's gender\n",
    "* `priors_count`: number of prior charges\n",
    "* `days_b_screening_arrest`: number of days between charge date and arrest where defendant was screened for compas score\n",
    "* `decile_score`: COMPAS score from 1 to 10 (low risk to high risk)\n",
    "* `is_recid`: if the defendant recidivized\n",
    "* `two_year_recid`: if the defendant within two years\n",
    "* `c_jail_in`: date defendant was imprisoned\n",
    "* `c_jail_out`: date defendant was released from jail\n",
    "* `length_of_stay`: length of jail stay\n",
    "\n",
    "In particular, as in the ProPublica analysis, we are interested in the implications for the treatment of different groups as defined by some **protected attribute**. In particular we will consider race as the protected attribute in our analysis. Next we look at the number of entries for each race.\n",
    "\n",
    "\n",
    "1. Use `value_counts` to look at how much data is available for each race\n",
    "2. filter to keep data from the two larges groups (help via `%load filter`)\n",
    "\n",
    "Next step: `mdshow(code/dist.md)`"
   ]
  },
  {
   "cell_type": "code",
   "execution_count": null,
   "id": "e63f4461",
   "metadata": {},
   "outputs": [],
   "source": [
    "df['race'].value_counts()"
   ]
  },
  {
   "cell_type": "code",
   "execution_count": null,
   "id": "44c0ee99",
   "metadata": {},
   "outputs": [],
   "source": [
    "# %load code/filter\n",
    "df = df.loc[df['race'].isin(['African-American','Caucasian'])]"
   ]
  },
  {
   "cell_type": "markdown",
   "id": "9bb86ed4",
   "metadata": {},
   "source": [
    "### COMPAS score distribution\n",
    "\n",
    "Let's look at the COMPAS score distribution between African-Americans and Caucasians (matches the one in the ProPublica article).\n",
    "\n",
    "hint: (use shift + tab for help in any function)\n",
    "```\n",
    "race_score_table = df.groupby([]).size().reset_index().pivot(index='',columns='',values=0)\n",
    "\n",
    "# print percentage of defendants in each score category\n",
    "(100*/.sum()).transpose()\n",
    "```\n",
    "\n",
    "_or get more help with `%load code/racetable`_\n",
    "\n",
    "then make a bar plot (quickest way is to use pandas plot with `figsize=[12,7]` to make it bigger, plot type is indicated by the `kind` parameter)\n",
    "\n",
    "Next steps at `mdshow('code/gapexplore')`"
   ]
  },
  {
   "cell_type": "code",
   "execution_count": null,
   "id": "6e620cde",
   "metadata": {},
   "outputs": [],
   "source": [
    "# %load code/racetable\n",
    "race_score_table = df.groupby(['race','decile_score']).size().reset_index().pivot(\n",
    "                                index='decile_score',columns='race',values=0)\n",
    "\n",
    "# percentage of defendants in each score category\n",
    "(100*race_score_table/race_score_table.sum()).transpose()"
   ]
  },
  {
   "cell_type": "code",
   "execution_count": null,
   "id": "6efa5847",
   "metadata": {},
   "outputs": [],
   "source": [
    "race_score_table.plot(kind='bar')"
   ]
  },
  {
   "cell_type": "markdown",
   "id": "bb399c02",
   "metadata": {},
   "source": [
    "<!-- # %load code/gapexplore.md -->\n",
    "As you can observe, there is a large discrepancy. Does this change when we condition on other variables?\n",
    "\n",
    "1. Look at how priors are distributed. Follow what you did above for score by race or use `%load code/priors` for help\n",
    "1. Look at how scores are distributed for those with more than two priors (`%load code/2priorscores`)\n",
    "1. What about with less than two priors ?(you can copy or import again the above and modify it)\n",
    "1. Look at first time (use `priors_count`) felons (`c_charge_degree` of `F`) under 25. How is this different?\n",
    "\n",
    "\n",
    "Then `mdshow('code/actual.md')`"
   ]
  },
  {
   "cell_type": "code",
   "execution_count": null,
   "id": "a5d9b18b",
   "metadata": {},
   "outputs": [],
   "source": [
    "# %load code/priors\n",
    "priors = df.groupby(['race','priors_count']).size().reset_index().pivot(index='priors_count',columns='race',values=0)\n",
    "priors.plot(kind='bar',figsize=[12,7])"
   ]
  },
  {
   "cell_type": "code",
   "execution_count": null,
   "id": "f9182bbf",
   "metadata": {},
   "outputs": [],
   "source": [
    "# %load code/2priorscores\n",
    "df_2priors = df.loc[df['priors_count']>=2]\n",
    "score_2priors = df_2priors.groupby(['race','decile_score']).size().reset_index().pivot(\n",
    "    index='decile_score',columns='race',values=0)\n",
    "score_2priors.plot(kind='bar',figsize=[15,7])"
   ]
  },
  {
   "cell_type": "markdown",
   "id": "97074353",
   "metadata": {},
   "source": [
    "<!-- # %load code/actual.md -->\n",
    "## What happens when we take actual 2-year recidivism values into account? Are the predictions fair?\n",
    "\n",
    "First quantize the data\n",
    "`%load code/quantize`\n",
    "\n",
    "First, let's look at the correlation between the quantized score, the decile score and the actual recidivism.\n",
    "\n",
    "```\n",
    "# measure with high-low score\n",
    "print(dfQ[['two_year_recid','score_text']].corr())\n",
    "\n",
    "# measure with decile_score\n",
    "print(dfQ[['two_year_recid','decile_score']].corr())\n",
    "```\n",
    "\n",
    "The correlation is not that high. How can we evaluate whether the predictions made by the COMPAS scores are fair, especially considering that they do not predict recidivism rates well? `mdshow('code/fair.md')`"
   ]
  },
  {
   "cell_type": "code",
   "execution_count": null,
   "id": "9ad27160",
   "metadata": {},
   "outputs": [],
   "source": [
    "# %load code/quantize\n",
    "dfQ = df.copy()\n",
    "\n",
    "# Quantize priors count between 0, 1-3, and >3\n",
    "def quantizePrior(x):\n",
    "    if x <=0:\n",
    "        return '0'\n",
    "    elif 1<=x<=3:\n",
    "        return '1 to 3'\n",
    "    else:\n",
    "        return 'More than 3'\n",
    "\n",
    "\n",
    "# Quantize length of stay\n",
    "def quantizeLOS(x):\n",
    "    if x<= 7:\n",
    "        return '<week'\n",
    "    if 8<x<=93:\n",
    "        return '<3months'\n",
    "    else:\n",
    "        return '>3 months'\n",
    "\n",
    "# Quantize length of stay\n",
    "def adjustAge(x):\n",
    "    if x == '25 - 45':\n",
    "        return '25 to 45'\n",
    "    else:\n",
    "        return x\n",
    "\n",
    "# Quantize score_text to MediumHigh\n",
    "def quantizeScore(x):\n",
    "    if (x == 'High')| (x == 'Medium'):\n",
    "        return 1\n",
    "    else:\n",
    "        return 0\n",
    "\n",
    "\n",
    "dfQ['priors_count'] = dfQ['priors_count'].apply(quantizePrior)\n",
    "dfQ['length_of_stay'] = dfQ['length_of_stay'].apply(quantizeLOS)\n",
    "dfQ['score_text'] = dfQ['score_text'].apply(quantizeScore)\n",
    "dfQ['age_cat'] = dfQ['age_cat'].apply(adjustAge)"
   ]
  },
  {
   "cell_type": "code",
   "execution_count": null,
   "id": "24d1d22c",
   "metadata": {},
   "outputs": [],
   "source": [
    "# measure with high-low score\n",
    "dfQ[['two_year_recid','score_text']].corr()"
   ]
  },
  {
   "cell_type": "code",
   "execution_count": null,
   "id": "c88884b3",
   "metadata": {},
   "outputs": [],
   "source": [
    "# measure with decile_score\n",
    "dfQ[['two_year_recid','decile_score']].corr()"
   ]
  },
  {
   "cell_type": "markdown",
   "id": "745e3528",
   "metadata": {},
   "source": [
    "<!-- # %load code/fair.md -->\n",
    "\n",
    "\n",
    "##  Fairness Metrics\n",
    "\n",
    "The question of how to determine if an algorithm is *fair* has seen much debate recently (see this tutorial from the Conference on Fairness, Acountability, and Transparency titled [21 Fairness Definitions and Their Politics](https://fatconference.org/2018/livestream_vh220.html).\n",
    "\n",
    "And in fact some of the definitions are contradictory, and have been shown to be mutually exclusive [2,3] https://www.propublica.org/article/bias-in-criminal-risk-scores-is-mathematically-inevitable-researchers-say\n",
    "\n",
    "Here we will cover 3 notions of fairness and present ways to measure them:\n",
    "\n",
    "1. **Disparate Impact** [4](#References)\n",
    "[The 80% rule](https://en.wikipedia.org/wiki/Disparate_impact#The_80.25_rule)\n",
    "\n",
    "2. **Calibration** [6](#References)\n",
    "\n",
    "4. **Equalized Odds** [5](#References)\n",
    "\n",
    "For the rest of our analysis we will use a binary outcome - COMPAS score <= 4 is LOW RISK, >4 is HIGH RISK.\n",
    "\n",
    "### Disparate Impact\n",
    "\n",
    "Disparate impact is a legal concept used to describe situations when an entity such as an employer *inadvertently* discriminates gainst a certain protected group. This is distinct from *disparate treatment* where discrimination is intentional.\n",
    "\n",
    "To demonstrate cases of disparate impact, the Equal Opportunity Commission (EEOC) proposed \"rule of thumb\" is known as the [The 80% rule](https://en.wikipedia.org/wiki/Disparate_impact#The_80.25_rule).\n",
    "\n",
    "Feldman et al. [4](#References) adapted a fairness metric from this  principle. For our application, it states that the percent of defendants predicted to be high risk in each protected group (in this case whites and african-americans) should be within 80% of each other.\n",
    "\n",
    "Let's evaluate this standard for the COMPAS data.\n",
    "\n",
    "`%load code/di` then `mdshow('code/evaldi.md')`"
   ]
  },
  {
   "cell_type": "code",
   "execution_count": null,
   "id": "a7e37239",
   "metadata": {},
   "outputs": [],
   "source": [
    "# %load code/di\n",
    "#  Let's measure the disparate impact according to the EEOC rule\n",
    "means_score = dfQ.groupby(['score_text','race']).size().unstack().reset_index()\n",
    "means_score = means_score/means_score.sum()\n",
    "means_score\n",
    "# split this cell for the above to print\n",
    "# compute disparate impact\n",
    "AA_with_high_score = means_score.loc[1,'African-American']\n",
    "C_with_high_score = means_score.loc[1,'Caucasian']\n",
    "\n",
    "C_with_high_score/AA_with_high_score"
   ]
  },
  {
   "cell_type": "markdown",
   "id": "fcf78761",
   "metadata": {},
   "source": [
    "# %load code/evaldi.md\n",
    "This ratio is below .8, so there is disparate impact by this rule.  (Taking the priveleged group and the undesirable outcome instead of the disadvantaged group and the favorable outcome).\n",
    "\n",
    "What if we apply the same rule to the **true** two year rearrest instead of the quantized COMPAS score?\n",
    "\n",
    "`%load code/rearrestdi`\n",
    "\n",
    "then `mdshow('code/calibration.md')`"
   ]
  },
  {
   "cell_type": "code",
   "execution_count": null,
   "id": "94b6f9b5",
   "metadata": {},
   "outputs": [],
   "source": [
    "# %load code/rearrestdi\n",
    "means_2yr = dfQ.groupby(['two_year_recid','race']).size().unstack()\n",
    "means_2yr = means_2yr/means_2yr.sum()\n",
    "means_2yr\n",
    "\n",
    "# compute disparte impact\n",
    "AA_with_high_score = means_2yr.loc[1,'African-American']\n",
    "C_with_high_score = means_2yr.loc[1,'Caucasian']\n",
    "C_with_high_score/AA_with_high_score"
   ]
  },
  {
   "cell_type": "markdown",
   "id": "4863aca9",
   "metadata": {},
   "source": [
    "# %load code/calibration.md\n",
    "There is a difference in re-arrest, but not as high as assigned by the COMPAS scores. This is still a disparate impact of the actual arrests (since this not necesarrily accurate as a recidivism rate, but it is true rearrest).\n",
    "\n",
    "Now let's measure the difference in scores when we consider both the COMPAS output and true recidivism.\n",
    "\n",
    "### Calibration\n",
    "\n",
    "A discussion of using calibration to verify the fairness of a model can be found in Northpoint's (now: Equivant) response to the ProPublica article [6](#References).\n",
    "\n",
    "The basic idea behind calibrating a classifier is that you want the confidence of the predictor to reflect the true outcomes. So, in a well-calibrated classifier, if 100 people are assigned 90% confidence of being in the positive class, then in reality, 90 of them should actually have had a positive label.\n",
    "\n",
    "To use calibration as a fairness metric we compare the calibration of the classifier for each group.  The smaller the difference, the more fair the calssifier.\n",
    "\n",
    "In our problem this can be expressed as given $Y$ indicating two year recidivism, $S_Q$ indicating score (0=low, 1=high medium), and $R$ indicating race, we measure\n",
    "\n",
    "$$\\mathsf{cal} \\triangleq \\frac{\\mathbb{P}\\left(Y=1\\mid S_Q=s,R=\\mbox{African-American} \\right)}{\\mathbb{P}\\left(Y=1 \\mid S_Q=s,R=\\mbox{Caucasian} \\right)},$$ for different scores $s$. Considering our quantized scores, we look at the calibration for $s=1$.\n",
    "\n",
    "compute this with `%load calibration`\n",
    "\n",
    "#### Discuss\n",
    "1. Do you think this is close enough?\n",
    "1. Which metric do you think is better so far?\n",
    "\n",
    "Next: `mdshow('code/pp.md')`\n",
    "\n",
    "```{code-cell} ipython3\n",
    "# %load code/calibration\n",
    "# compute averages\n",
    "dfAverage = dfQ.groupby(['race','score_text'])['two_year_recid'].mean().unstack()\n",
    "\n",
    "num = dfAverage.loc['African-American',1]\n",
    "denom = dfAverage.loc['Caucasian',1]\n",
    "cal = num/denom\n",
    "calpercent = 100*(cal-1)\n",
    "print('Calibration: %f' % cal)\n",
    "print('Calibration in percentage: %f%%' % calpercent)\n",
    "```\n",
    "\n",
    "# %load code/pp.md\n",
    "The difference looks much smaller than before. The problem of the above calibration measure is that it depends on the threshold on which we quantized the scores $S_Q$.\n",
    "\n",
    "In order to mitigate this, ine might use a variation of this measure called *predictive parity.* In this example, we define predictive parity as\n",
    "\n",
    "$$\\mathsf{PP}(s) \\triangleq \\frac{\\mathbb{P}\\left(Y=1\\mid S\\geq s,R=\\mbox{African-American} \\right)}{\\mathbb{P}\\left(Y=1 \\mid S\\geq s,R=\\mbox{Caucasian} \\right)},$$\n",
    "where $S$ is the original score.\n",
    "\n",
    "We plot $\\mathsf{PP}(s) $ for $s$ from 1 to 10. Note how predictive parity depends significantly on the threshold.\n",
    "\n",
    "Try this out with `%load code/pp`\n",
    "\n",
    "Then try the next metric with `mdshow('code/eq.md')`"
   ]
  },
  {
   "cell_type": "code",
   "execution_count": null,
   "id": "0cd99b5f",
   "metadata": {},
   "outputs": [],
   "source": [
    "# %load code/pp\n",
    "# aux function for thresh score\n",
    "def threshScore(x,s):\n",
    "    if x>=s:\n",
    "        return 1\n",
    "    else:\n",
    "        return 0\n",
    "\n",
    "ppv_values = []\n",
    "dfP = dfQ[['race','two_year_recid']].copy()\n",
    "for s in range(1,11):\n",
    "    dfP['threshScore'] = dfQ['decile_score'].apply(lambda x: threshScore(x,s))\n",
    "    dfAverage = dfP.groupby(['race','threshScore'])['two_year_recid'].mean().unstack()\n",
    "    num = dfAverage.loc['African-American',1]\n",
    "    denom = dfAverage.loc['Caucasian',1]\n",
    "    ppv_values.append(100*(num/denom-1))\n",
    "\n",
    "\n",
    "plt.figure(figsize=[10,10])\n",
    "plt.plot(range(1,11),ppv_values)\n",
    "plt.xticks(range(1,11))\n",
    "plt.xlabel('Score Threshold')\n",
    "plt.ylabel('Predictive Parity (percentage)')\n",
    "plt.title('Predictive parity for different thresholds\\n(warning: no error bars)')"
   ]
  },
  {
   "cell_type": "markdown",
   "id": "94d1a2d3",
   "metadata": {},
   "source": [
    "# %load code/eq.md\n",
    "### Equalized Odds\n",
    "\n",
    "The last fairness metric we consider is based on the difference in *error rates* between groups. Hardt et al. [5](#References) propose to look at the difference in the true positive and false positive rates for each group. This aligns with the analysis performed by Propublica. We can examine these values looking at is the ROC for each group. We normalize the score between 0 and 1. The ROC thresholds produced by `scikitlearn` are the same.\n",
    "\n",
    "`%load code/eq`\n",
    "\n",
    "Discuss these results and copmare how these metrics show that there is (or is not) a disparity.  \n",
    "\n",
    "\n",
    "For an extra activity if you finish early, consider CORELS with `mdshow('code/corels.md')`"
   ]
  },
  {
   "cell_type": "code",
   "execution_count": null,
   "id": "c0408d41",
   "metadata": {},
   "outputs": [],
   "source": [
    "# %load code/eq\n",
    "# normalize decile score\n",
    "max_score = dfQ['decile_score'].max()\n",
    "min_score = dfQ['decile_score'].min()\n",
    "dfQ['norm_score'] = (dfQ['decile_score']-min_score)/(max_score-min_score)\n",
    "\n",
    "\n",
    "plt.figure(figsize=[10,10])\n",
    "#plot ROC curve for African-Americans\n",
    "y = dfQ.loc[dfQ['race']=='African-American',['two_year_recid','norm_score']].values\n",
    "fpr1,tpr1,thresh1 = roc_curve(y_true = y[:,0],y_score=y[:,1])\n",
    "plt.plot(fpr1,tpr1)\n",
    "\n",
    "#plot ROC curve for Caucasian\n",
    "y = dfQ.loc[dfQ['race']=='Caucasian',['two_year_recid','norm_score']].values\n",
    "fpr2,tpr2,thresh2 = roc_curve(y_true = y[:,0],y_score=y[:,1])\n",
    "plt.plot(fpr2,tpr2)\n",
    "l = np.linspace(0,1,10)\n",
    "plt.plot(l,l,'k--')\n",
    "\n",
    "plt.xlabel('False Positive Rate')\n",
    "plt.ylabel('True Postitive Rate')\n",
    "plt.title('ROC')\n",
    "plt.legend(['African-American','Caucasian'])"
   ]
  },
  {
   "cell_type": "markdown",
   "id": "e3a55289",
   "metadata": {},
   "source": [
    "# %load code/corels.md\n",
    "# Corels\n",
    "\n",
    "COPMAS has also been critcized for being a generally opaque system.\n",
    "\n",
    "We saw during the interpretability class, the [CORELS system](https://corels.eecs.harvard.edu/corels/run.html). It learns a rule list from the Propulica data and reports similar accuracy.\n",
    "\n",
    "```\n",
    "if ({Prior-Crimes>3}) then ({label=1})\n",
    "else if ({Age=18-22}) then ({label=1})\n",
    "else ({label=0})\n",
    "```\n",
    "\n",
    "Let's investigate how that score compares.\n",
    "1. Write a function that takes one row of the data frame and computes the corels function\n",
    "1. Use `df.apply` to apply your function and add a column to the data frame with the corels score\n",
    "1. Evaluate the CORELS prediction with respect to accuracy, and fairnss follwing the above\n",
    "\n",
    "Starter code is in `%load code/corels`"
   ]
  },
  {
   "cell_type": "code",
   "execution_count": null,
   "id": "aef6c417",
   "metadata": {},
   "outputs": [],
   "source": [
    "df['age_cat'].value_counts()"
   ]
  },
  {
   "cell_type": "code",
   "execution_count": null,
   "id": "25c7a771",
   "metadata": {},
   "outputs": [],
   "source": [
    "# %load code/corels\n",
    "\n",
    "def corels_rule(row):\n",
    "    if row['priors_count'] > 3:\n",
    "        return True\n",
    "    elif row['age'] == 'Less than 25':\n",
    "        return True\n",
    "    else:\n",
    "        return False\n",
    "\n",
    "df['corels'] = df.apply(corels_rule,axis=1)\n",
    "\n",
    "#  Let's measure the disparate impact according to the EEOC rule\n",
    "means_corel = df.groupby(['corels','race']).size().unstack().reset_index()\n",
    "means_corel = means_corel/means_corel.sum()\n",
    "means_corel"
   ]
  },
  {
   "cell_type": "code",
   "execution_count": null,
   "id": "5b7f6048",
   "metadata": {},
   "outputs": [],
   "source": []
  }
 ],
 "metadata": {
  "jupytext": {
   "text_representation": {
    "extension": ".md",
    "format_name": "myst",
    "format_version": 0.13,
    "jupytext_version": "1.10.3"
   }
  },
  "kernelspec": {
   "display_name": "Python 3",
   "language": "python",
   "name": "python3"
  },
  "language_info": {
   "codemirror_mode": {
    "name": "ipython",
    "version": 3
   },
   "file_extension": ".py",
   "mimetype": "text/x-python",
   "name": "python",
   "nbconvert_exporter": "python",
   "pygments_lexer": "ipython3",
   "version": "3.7.11"
  },
  "source_map": [
   12,
   29,
   41,
   59,
   71,
   78,
   95,
   105,
   135,
   139,
   142,
   163,
   172,
   174,
   187,
   193,
   199,
   219,
   263,
   268,
   271,
   305,
   317,
   328,
   338,
   392,
   417,
   431,
   456,
   478,
   482,
   501
  ]
 },
 "nbformat": 4,
 "nbformat_minor": 5
}